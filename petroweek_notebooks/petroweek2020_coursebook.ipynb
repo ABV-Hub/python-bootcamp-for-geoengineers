{
  "nbformat": 4,
  "nbformat_minor": 0,
  "metadata": {
    "colab": {
      "name": "petroweek2020-coursebook.ipynb",
      "provenance": [],
      "collapsed_sections": [],
      "authorship_tag": "ABX9TyPFc9ADlEgdDTNExxQvzFiN",
      "include_colab_link": true
    },
    "kernelspec": {
      "name": "python3",
      "display_name": "Python 3"
    }
  },
  "cells": [
    {
      "cell_type": "markdown",
      "metadata": {
        "id": "view-in-github",
        "colab_type": "text"
      },
      "source": [
        "<a href=\"https://colab.research.google.com/github/yohanesnuwara/python-bootcamp-for-geoengineers/blob/master/petroweek_notebooks/petroweek2020_coursebook.ipynb\" target=\"_parent\"><img src=\"https://colab.research.google.com/assets/colab-badge.svg\" alt=\"Open In Colab\"/></a>"
      ]
    },
    {
      "cell_type": "markdown",
      "metadata": {
        "id": "dJ_jhVTe6Xlt",
        "colab_type": "text"
      },
      "source": [
        "# **Python for Exploration and Production 4.0 Course Book**\n",
        "\n",
        "## PetroWeek, Trisakti University (Indonesia), 12 September 2020\n",
        "\n",
        "\n",
        "<div>\n",
        "<img src=\"https://user-images.githubusercontent.com/51282928/84600084-1300ab00-aea1-11ea-9293-4d73a9b30c42.png\" width=\"500\"/>\n",
        "<img src=\"https://user-images.githubusercontent.com/51282928/86091632-6a745d00-bad6-11ea-85f5-5a8541bc45cf.jpg\" width=\"150\"/>\n",
        "</div>\n",
        "\n",
        "***Instructor***: Yohanes Nuwara"
      ]
    },
    {
      "cell_type": "markdown",
      "metadata": {
        "id": "fslProod85Wu",
        "colab_type": "text"
      },
      "source": [
        "## What is this Workshop and Who is this designed for?\n",
        "\n",
        "<div>\n",
        "<img src=\"https://user-images.githubusercontent.com/51282928/86092620-f5098c00-bad7-11ea-8776-9f3b18096082.png\" width=\"100\"/>\n",
        "</div>\n",
        "\n",
        "\"Python for Exploration and Production 4.0\" is a one-day Python course designed for students and engineers working in the oil and gas upstream industry.\n",
        "\n",
        "Through this workshop, you will be prepared to apply programming using Python language to real cases in upstream industry, from exploration to production. \n",
        "\n",
        "The instructor would like to personally thank to and appreciate **Society of Petroleum Engineers Student Chapter (SPE SC) Trisakti University** for holding this workshop. It's been a pleasure to work with you, guys."
      ]
    },
    {
      "cell_type": "markdown",
      "metadata": {
        "id": "eGMkXBBCATY2",
        "colab_type": "text"
      },
      "source": [
        "## How to use this book?\n",
        "\n",
        "<div>\n",
        "<img src=\"https://user-images.githubusercontent.com/51282928/86092911-61848b00-bad8-11ea-8a74-7a7358b3e17b.png\" width=\"100\"/>\n",
        "<img src=\"https://user-images.githubusercontent.com/51282928/86093212-c7711280-bad8-11ea-87a4-2c9fffbe69f2.png\" width=\"100\"/>\n",
        "</div>\n",
        "\n",
        "This book is created using Google Colab, and also encourages anyone to work on Google Colab in the cloud, as alternative to Python IDE (e.g. PyCharm, Anaconda, Atom) in the local computer. \n",
        "\n",
        "Click the link of the units (Unit 1, Unit 2, Unit 3) to open the tutorial notebooks. In those notebooks, just run the cells . There will be also some data that are streamed from [GitHub repo of PBFG](https://github.com/yohanesnuwara/python-bootcamp-for-geoengineers), just follow the instructions in the notebooks. Enjoy! \n",
        "\n",
        "Anyone who is interested to use this book for a certain purpose, please review the **Citation** section at the end."
      ]
    },
    {
      "cell_type": "markdown",
      "metadata": {
        "id": "1Z9J7XHM6fIX",
        "colab_type": "text"
      },
      "source": [
        "## Structure of the Workshop\n"
      ]
    },
    {
      "cell_type": "markdown",
      "metadata": {
        "id": "_K3yNcx599VL",
        "colab_type": "text"
      },
      "source": [
        "### Unit 1. [Very Brief Intro to Numpy, Matplotlib, Pandas, and Scipy](https://colab.research.google.com/github/yohanesnuwara/python-bootcamp-for-geoengineers/blob/master/petroweek_notebooks/petroweek2020_unitxx.ipynb)\n",
        "\n",
        "<div>\n",
        "<img src=\"https://user-images.githubusercontent.com/51282928/86093727-a3620100-bad9-11ea-8a3c-4ed0dde0d4f8.png\" width=\"400\"/>\n",
        "</div>\n",
        "\n",
        "Topics discussed:\n",
        "\n",
        "* Importing Python libraries in Google Colab\n",
        "* Numpy: Arrays (1D, 2D, and 3D), data cleansing, element search, list comprehension, read and write numpy file\n",
        "* Matplotlib: Display attributes (line type, axis labels, title, size, legends), subplots, contour map\n",
        "* Pandas: Read CSV file, create a dataframe, data cleansing\n",
        "* Scipy: Linear and non-linear regression, solving set of linear equations\n"
      ]
    },
    {
      "cell_type": "markdown",
      "metadata": {
        "id": "xKZwjHpH-CBy",
        "colab_type": "text"
      },
      "source": [
        "### Unit 2. [Python for Exploration](https://colab.research.google.com/github/yohanesnuwara/python-bootcamp-for-geoengineers/blob/master/petroweek_notebooks/petroweek2020_unitxx.ipynb)\n",
        "\n",
        "![earth outcrop + well log](https://user-images.githubusercontent.com/51282928/85986349-4c472800-ba16-11ea-8f23-cdc278edc392.png)\n",
        "\n",
        "Topics discussed:\n",
        "\n",
        "  * Streaming well log and seismic data from open geoscience data\n",
        "  * Visualize well log data\n",
        "  * Basic exploratory data analysis (crossplot and histogram) using Seaborn\n",
        "  * Basic petrophysics processing (computation of porosity, Vclay)\n",
        "  * Demo: Read and display 3D seismic data "
      ]
    },
    {
      "cell_type": "markdown",
      "metadata": {
        "id": "PaZXuR_6AbCO",
        "colab_type": "text"
      },
      "source": [
        "### Unit 3. [Python for Production](https://colab.research.google.com/github/yohanesnuwara/python-bootcamp-for-geoengineers/blob/master/petroweek_notebooks/petroweek2020_unitxx.ipynb)\n",
        "\n",
        "<div>\n",
        "<img src=\"https://user-images.githubusercontent.com/51282928/85827088-bb6f1300-b7af-11ea-9a1f-eed08adddaff.png\" width=\"500\"/>\n",
        "</div>\n",
        "\n",
        "Topics discussed:\n",
        "\n",
        "* Streaming production data (borehole pressure, production rate)\n",
        "* Simple well-test analysis\n",
        "* Simple decline curve analysis"
      ]
    },
    {
      "cell_type": "markdown",
      "metadata": {
        "id": "0CQTUCy-B0ci",
        "colab_type": "text"
      },
      "source": [
        "## Citation"
      ]
    },
    {
      "cell_type": "markdown",
      "metadata": {
        "id": "2LiYeEi0B21i",
        "colab_type": "text"
      },
      "source": [
        "This book cannot be used for commercial purpose. You can freely remix or add edit texts or codes of the notebook for the purpose of individual or community learning, but editting for the purpose of re-distribution in any media is not allowed. Whoever is also suggested to always cite this book, given the following format,\n",
        "\n",
        "> Nuwara, Y. (2020). *Python for Exploration and Production 4.0 Handbook: PetroWeek 2020*. Jakarta, Indonesia: Trisakti University Society of Petroleum Engineers. [https://github.com/yohanesnuwara/python-bootcamp-for-geoengineers](https://github.com/yohanesnuwara/python-bootcamp-for-geoengineers)\n",
        "\n",
        "\n",
        "<br>\n",
        "<br>\n",
        "<a rel=\"license\" href=\"http://creativecommons.org/licenses/by-nc-sa/4.0/\"><img alt=\"Creative Commons License\" style=\"border-width:0\" src=\"https://i.creativecommons.org/l/by-nc-sa/4.0/88x31.png\" /></a><br />This work is licensed under a <a rel=\"license\" href=\"http://creativecommons.org/licenses/by-nc-sa/4.0/\">Creative Commons Attribution-NonCommercial-ShareAlike 4.0 International License</a>."
      ]
    }
  ]
}