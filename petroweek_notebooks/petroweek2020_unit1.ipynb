{
  "nbformat": 4,
  "nbformat_minor": 0,
  "metadata": {
    "colab": {
      "name": "petroweek2020-unit1.ipynb",
      "provenance": [],
      "collapsed_sections": [],
      "toc_visible": true,
      "authorship_tag": "ABX9TyMoIzpe3XXN6Ej3Zv/4kZBc",
      "include_colab_link": true
    },
    "kernelspec": {
      "name": "python3",
      "display_name": "Python 3"
    }
  },
  "cells": [
    {
      "cell_type": "markdown",
      "metadata": {
        "id": "view-in-github",
        "colab_type": "text"
      },
      "source": [
        "<a href=\"https://colab.research.google.com/github/yohanesnuwara/python-bootcamp-for-geoengineers/blob/master/petroweek_notebooks/petroweek2020_unit1.ipynb\" target=\"_parent\"><img src=\"https://colab.research.google.com/assets/colab-badge.svg\" alt=\"Open In Colab\"/></a>"
      ]
    },
    {
      "cell_type": "markdown",
      "metadata": {
        "id": "H2iewYI6RV9N",
        "colab_type": "text"
      },
      "source": [
        "# Unit 1. Very Brief Intro to Numpy, Matplotlib, Pandas, and Scipy"
      ]
    },
    {
      "cell_type": "markdown",
      "metadata": {
        "id": "E1B31foxRch5",
        "colab_type": "text"
      },
      "source": [
        "This is our Google Colab notebook. A notebook is where we will write codes, stream and import dataset, run them, and see the results. Your local computer doesn't do the work, but your internet does (because Google Colab is a Cloud IDE). \n",
        "\n",
        "First of all, we will import our GitHub repository, that later on we can stream and import the data from."
      ]
    },
    {
      "cell_type": "code",
      "metadata": {
        "id": "3CRoRg32f_jR",
        "colab_type": "code",
        "colab": {
          "base_uri": "https://localhost:8080/",
          "height": 138
        },
        "outputId": "76175ff1-c60b-42f1-b58d-7d8de0c56540"
      },
      "source": [
        "!git clone 'https://github.com/yohanesnuwara/python-bootcamp-for-geoengineers'"
      ],
      "execution_count": null,
      "outputs": [
        {
          "output_type": "stream",
          "text": [
            "Cloning into 'python-bootcamp-for-geoengineers'...\n",
            "remote: Enumerating objects: 3, done.\u001b[K\n",
            "remote: Counting objects: 100% (3/3), done.\u001b[K\n",
            "remote: Compressing objects: 100% (3/3), done.\u001b[K\n",
            "remote: Total 156 (delta 0), reused 0 (delta 0), pack-reused 153\u001b[K\n",
            "Receiving objects: 100% (156/156), 2.21 MiB | 21.33 MiB/s, done.\n",
            "Resolving deltas: 100% (73/73), done.\n"
          ],
          "name": "stdout"
        }
      ]
    },
    {
      "cell_type": "markdown",
      "metadata": {
        "id": "-HxANwbEf1Lz",
        "colab_type": "text"
      },
      "source": [
        "This notebook gives a very 3x brief introduction to Numpy, Matplotlib, Pandas, and Scipy. "
      ]
    },
    {
      "cell_type": "markdown",
      "metadata": {
        "id": "NEJv3uURSZZd",
        "colab_type": "text"
      },
      "source": [
        "Now, we will import libraries."
      ]
    },
    {
      "cell_type": "code",
      "metadata": {
        "id": "RHe8RkP1F-g3",
        "colab_type": "code",
        "colab": {}
      },
      "source": [
        "import numpy as np\n",
        "import matplotlib.pyplot as plt\n",
        "import pandas as pd\n",
        "import scipy"
      ],
      "execution_count": null,
      "outputs": []
    },
    {
      "cell_type": "markdown",
      "metadata": {
        "id": "fJUQJ4oOSm7w",
        "colab_type": "text"
      },
      "source": [
        "After this we will go through each library (how to use them)."
      ]
    },
    {
      "cell_type": "markdown",
      "metadata": {
        "id": "ykQN00dQSurf",
        "colab_type": "text"
      },
      "source": [
        "# Numpy"
      ]
    },
    {
      "cell_type": "markdown",
      "metadata": {
        "id": "5lljabciSyDe",
        "colab_type": "text"
      },
      "source": [
        "Numpy library is widely used for numerical computations. \n",
        "\n",
        "The objectives of this section are:\n",
        "\n",
        "* Handle arrays (1D, 2D, and 3D)\n",
        "* List comprehension\n",
        "* Data cleansing\n",
        "* Element search\n",
        "* Read (and write) file"
      ]
    },
    {
      "cell_type": "markdown",
      "metadata": {
        "id": "kDc2q8ueTeg2",
        "colab_type": "text"
      },
      "source": [
        "## Handle arrays (1D, 2D, and 3D)"
      ]
    },
    {
      "cell_type": "markdown",
      "metadata": {
        "id": "0Fz3pnLoYNUY",
        "colab_type": "text"
      },
      "source": [
        "### 1D array"
      ]
    },
    {
      "cell_type": "markdown",
      "metadata": {
        "id": "eMPXYr7mUGgZ",
        "colab_type": "text"
      },
      "source": [
        "Ways to create an array are:\n",
        "* `np.array`: array consists of several values\n",
        "* `np.arange`: array of series from a start value to an end value, with a specified increment\n",
        "* `np.linspace`: array of series between two values, with a specified number o elements"
      ]
    },
    {
      "cell_type": "code",
      "metadata": {
        "id": "NHi3zM2AUs2w",
        "colab_type": "code",
        "colab": {
          "base_uri": "https://localhost:8080/",
          "height": 69
        },
        "outputId": "bbaaaa2d-4bf1-4440-fed2-5eb1f1e5b13b"
      },
      "source": [
        "# create array with specified values\n",
        "array1 = np.array([10, 11, 45, 75, 65, 78, 90, 85, 56, 77])\n",
        "print(array1)\n",
        "\n",
        "# create an array, say from 1 to 50, with a specified increment, say 5\n",
        "array2 = np.arange(1, 50, 5)\n",
        "print(array2)\n",
        "\n",
        "# create a 1D numpy array consisting of numbers from 1 to 100, divided uniformly into 100 numbers\n",
        "array3 = np.linspace(1, 100, 10)\n",
        "print(array3)"
      ],
      "execution_count": null,
      "outputs": [
        {
          "output_type": "stream",
          "text": [
            "[10 11 45 75 65 78 90 85 56 77]\n",
            "[ 1  6 11 16 21 26 31 36 41 46]\n",
            "[  1.  12.  23.  34.  45.  56.  67.  78.  89. 100.]\n"
          ],
          "name": "stdout"
        }
      ]
    },
    {
      "cell_type": "markdown",
      "metadata": {
        "id": "_o7BJPoHVlIY",
        "colab_type": "text"
      },
      "source": [
        "Print the length of each array"
      ]
    },
    {
      "cell_type": "code",
      "metadata": {
        "id": "rPy7jqBEVogC",
        "colab_type": "code",
        "colab": {
          "base_uri": "https://localhost:8080/",
          "height": 69
        },
        "outputId": "752db5c9-1e2d-412b-e6fd-adaa44f1e2b7"
      },
      "source": [
        "print(len(array1))\n",
        "print(len(array2))\n",
        "print(len(array3))"
      ],
      "execution_count": null,
      "outputs": [
        {
          "output_type": "stream",
          "text": [
            "10\n",
            "10\n",
            "10\n"
          ],
          "name": "stdout"
        }
      ]
    },
    {
      "cell_type": "markdown",
      "metadata": {
        "id": "zWkulP6TV9dU",
        "colab_type": "text"
      },
      "source": [
        "Now, instead of repetitive codes, we can use `for` loop"
      ]
    },
    {
      "cell_type": "code",
      "metadata": {
        "id": "drdBu9nxWB0V",
        "colab_type": "code",
        "colab": {
          "base_uri": "https://localhost:8080/",
          "height": 69
        },
        "outputId": "06b142a6-45ec-485d-a2b6-b7aa7c94cc8d"
      },
      "source": [
        "arrays = np.array([array1, array2, array3])\n",
        "\n",
        "for i in range(len(arrays)):\n",
        "  print(len(arrays[i]))"
      ],
      "execution_count": null,
      "outputs": [
        {
          "output_type": "stream",
          "text": [
            "10\n",
            "10\n",
            "10\n"
          ],
          "name": "stdout"
        }
      ]
    },
    {
      "cell_type": "markdown",
      "metadata": {
        "id": "9Tt2Vyw1Fnp9",
        "colab_type": "text"
      },
      "source": [
        "Now, sort the elements in the `array1` in ascending order (smallest to highest number)"
      ]
    },
    {
      "cell_type": "code",
      "metadata": {
        "id": "i4Ps0w43FyUC",
        "colab_type": "code",
        "colab": {
          "base_uri": "https://localhost:8080/",
          "height": 34
        },
        "outputId": "6965518c-c552-4dc8-f9c5-8a7f08d34f4f"
      },
      "source": [
        "print('Sorted from smallest to highest:', np.sort(array1))"
      ],
      "execution_count": null,
      "outputs": [
        {
          "output_type": "stream",
          "text": [
            "Sorted from smallest to highest: [10 11 45 56 65 75 77 78 85 90]\n"
          ],
          "name": "stdout"
        }
      ]
    },
    {
      "cell_type": "markdown",
      "metadata": {
        "id": "0ROaB2WIF8nj",
        "colab_type": "text"
      },
      "source": [
        "To sort with descending order, we can use alternative `[::-1]`"
      ]
    },
    {
      "cell_type": "code",
      "metadata": {
        "id": "oY8t5wsyGN7m",
        "colab_type": "code",
        "colab": {
          "base_uri": "https://localhost:8080/",
          "height": 34
        },
        "outputId": "8082bb6b-ace9-40b0-df29-34c6c19b7fbc"
      },
      "source": [
        "print('Sorted from highest to smallest:', array1[::-1])"
      ],
      "execution_count": null,
      "outputs": [
        {
          "output_type": "stream",
          "text": [
            "Sorted from highest to smallest: [77 56 85 90 78 65 75 45 11 10]\n"
          ],
          "name": "stdout"
        }
      ]
    },
    {
      "cell_type": "markdown",
      "metadata": {
        "id": "5ONFKcH2Cz9f",
        "colab_type": "text"
      },
      "source": [
        "Numpy array is unique because indexing starts from 0, not 1. Try printing the first element of the array."
      ]
    },
    {
      "cell_type": "code",
      "metadata": {
        "id": "7nDEh-YJC-8m",
        "colab_type": "code",
        "colab": {
          "base_uri": "https://localhost:8080/",
          "height": 52
        },
        "outputId": "9fe4503a-26a6-48f4-9d60-a8800586bec1"
      },
      "source": [
        "print('First element:', array1[0])\n",
        "print('Second element:', array1[1])"
      ],
      "execution_count": null,
      "outputs": [
        {
          "output_type": "stream",
          "text": [
            "First element: 10\n",
            "Second element: 11\n"
          ],
          "name": "stdout"
        }
      ]
    },
    {
      "cell_type": "markdown",
      "metadata": {
        "id": "7sCrtzecDJLC",
        "colab_type": "text"
      },
      "source": [
        "Print the very last element $N$ and its preceding element $N-1$ "
      ]
    },
    {
      "cell_type": "code",
      "metadata": {
        "id": "ro66cMczDIgO",
        "colab_type": "code",
        "colab": {
          "base_uri": "https://localhost:8080/",
          "height": 52
        },
        "outputId": "2f0d2527-03a9-49d4-c973-faf7928796d6"
      },
      "source": [
        "print('Last element N:', array1[-1])\n",
        "print('Element N-1:', array1[-2])"
      ],
      "execution_count": null,
      "outputs": [
        {
          "output_type": "stream",
          "text": [
            "Last element N: 77\n",
            "Element N-1: 56\n"
          ],
          "name": "stdout"
        }
      ]
    },
    {
      "cell_type": "markdown",
      "metadata": {
        "id": "8kgBFKXcD8K6",
        "colab_type": "text"
      },
      "source": [
        "We can also print the first three elements of the array"
      ]
    },
    {
      "cell_type": "code",
      "metadata": {
        "id": "m6bF6nVTEBWq",
        "colab_type": "code",
        "colab": {
          "base_uri": "https://localhost:8080/",
          "height": 34
        },
        "outputId": "fc63ac55-48de-4a74-86ee-0b44dbfb5d25"
      },
      "source": [
        "print('First five elements:', array1[:3])"
      ],
      "execution_count": null,
      "outputs": [
        {
          "output_type": "stream",
          "text": [
            "First five elements: [10 11 45]\n"
          ],
          "name": "stdout"
        }
      ]
    },
    {
      "cell_type": "markdown",
      "metadata": {
        "id": "omp9B96ZEvyC",
        "colab_type": "text"
      },
      "source": [
        "Print the 5th until 8th element"
      ]
    },
    {
      "cell_type": "code",
      "metadata": {
        "id": "X3qZ-nqAE4-r",
        "colab_type": "code",
        "colab": {
          "base_uri": "https://localhost:8080/",
          "height": 34
        },
        "outputId": "29194f50-b9d9-48f3-a78b-0ed37330d3c5"
      },
      "source": [
        "print('Fifth until eighth elements:', array1[5:8])"
      ],
      "execution_count": null,
      "outputs": [
        {
          "output_type": "stream",
          "text": [
            "Fifth until eighth elements: [78 90 85]\n"
          ],
          "name": "stdout"
        }
      ]
    },
    {
      "cell_type": "markdown",
      "metadata": {
        "id": "EBHFgJlAELZl",
        "colab_type": "text"
      },
      "source": [
        "Print the last four elements of the array"
      ]
    },
    {
      "cell_type": "code",
      "metadata": {
        "id": "8mXPhlBDEQNe",
        "colab_type": "code",
        "colab": {
          "base_uri": "https://localhost:8080/",
          "height": 34
        },
        "outputId": "8ec4a1a3-dad1-465c-c321-59e90bba9871"
      },
      "source": [
        "print('Last four elements:', array1[-4:])"
      ],
      "execution_count": null,
      "outputs": [
        {
          "output_type": "stream",
          "text": [
            "Last four elements: [90 85 56 77]\n"
          ],
          "name": "stdout"
        }
      ]
    },
    {
      "cell_type": "markdown",
      "metadata": {
        "id": "c3zo9aKpYQc0",
        "colab_type": "text"
      },
      "source": [
        "### 2D array (Matrix)"
      ]
    },
    {
      "cell_type": "markdown",
      "metadata": {
        "id": "aBY6YhgjYSX1",
        "colab_type": "text"
      },
      "source": [
        "In math, we know 2D array as a matrix. We create matrix also using `np.array`"
      ]
    },
    {
      "cell_type": "markdown",
      "metadata": {
        "id": "t0hWxcLEYK_j",
        "colab_type": "text"
      },
      "source": [
        "![image](https://user-images.githubusercontent.com/51282928/91944393-344a9800-ed28-11ea-820f-a2e78786970d.png)\n",
        "\n",
        "To create a matrix is simple. Imagine you have 3 arrays, each consisting of 3 elements. \n",
        "\n",
        "Array 1: $[10, 20, 30]$\n",
        "\n",
        "Array 2: $[50, 70, 90]$\n",
        "\n",
        "Array 3: $[12, 14, 16]$\n",
        "\n",
        "Then, you stack them. Now, you will have a $(3 \\times 3)$ matrix. \n",
        "\n",
        "$\\begin{bmatrix} 10 & 20 & 30 \\\\ 50 & 70 & 90 \\\\ 12 & 14 & 16 \\end{bmatrix}$\n",
        "\n",
        "Likewise, using Numpy to stack these arrays are very simple. "
      ]
    },
    {
      "cell_type": "markdown",
      "metadata": {
        "id": "jbOT2woKbNHy",
        "colab_type": "text"
      },
      "source": [
        "You can build it step-by-step, from the 1st row to the 3rd row"
      ]
    },
    {
      "cell_type": "code",
      "metadata": {
        "id": "yjDCoL7iYJqj",
        "colab_type": "code",
        "colab": {
          "base_uri": "https://localhost:8080/",
          "height": 69
        },
        "outputId": "a30af472-ddf3-410c-9061-de66c1a11aae"
      },
      "source": [
        "# each row as 1D array\n",
        "first = np.array([10, 20, 30])\n",
        "second = np.array([50, 70, 90])\n",
        "third = np.array([12, 14, 16])\n",
        "\n",
        "# stack them together into 2D array\n",
        "M = np.array([first, \n",
        "              second, \n",
        "              third])\n",
        "M"
      ],
      "execution_count": null,
      "outputs": [
        {
          "output_type": "execute_result",
          "data": {
            "text/plain": [
              "array([[10, 20, 30],\n",
              "       [50, 70, 90],\n",
              "       [12, 14, 16]])"
            ]
          },
          "metadata": {
            "tags": []
          },
          "execution_count": 18
        }
      ]
    },
    {
      "cell_type": "markdown",
      "metadata": {
        "id": "Qr34zOcgnn1e",
        "colab_type": "text"
      },
      "source": [
        "OR, you can build it directly!\n",
        "\n",
        "You already know how to make 1D numpy array by `np.array([...])`. There's only one squared bracket. So, for a matrix, which is a 2D numpy array, use `np.array([[...]])` with two squared brackets."
      ]
    },
    {
      "cell_type": "code",
      "metadata": {
        "id": "5AAJxHWYbLEx",
        "colab_type": "code",
        "colab": {
          "base_uri": "https://localhost:8080/",
          "height": 69
        },
        "outputId": "8d6e2e1c-041c-4591-e552-172cb43c2c86"
      },
      "source": [
        "M = np.array([[10, 20, 30],\n",
        "              [50, 70, 90],\n",
        "              [12, 14, 16]])\n",
        "M"
      ],
      "execution_count": null,
      "outputs": [
        {
          "output_type": "execute_result",
          "data": {
            "text/plain": [
              "array([[10, 20, 30],\n",
              "       [50, 70, 90],\n",
              "       [12, 14, 16]])"
            ]
          },
          "metadata": {
            "tags": []
          },
          "execution_count": 19
        }
      ]
    },
    {
      "cell_type": "markdown",
      "metadata": {
        "id": "qHQOKI7Gbd1b",
        "colab_type": "text"
      },
      "source": [
        "Print the matrix shape"
      ]
    },
    {
      "cell_type": "code",
      "metadata": {
        "id": "AecXYAy7bgn5",
        "colab_type": "code",
        "colab": {
          "base_uri": "https://localhost:8080/",
          "height": 34
        },
        "outputId": "0edb163c-fcb3-4335-f967-b09f934a42ef"
      },
      "source": [
        "M.shape"
      ],
      "execution_count": null,
      "outputs": [
        {
          "output_type": "execute_result",
          "data": {
            "text/plain": [
              "(3, 3)"
            ]
          },
          "metadata": {
            "tags": []
          },
          "execution_count": 20
        }
      ]
    },
    {
      "cell_type": "markdown",
      "metadata": {
        "id": "VJhcVa-caRPc",
        "colab_type": "text"
      },
      "source": [
        "Remember that Python indexing starts from 0. So, if you want to print the element $M_{1,1}$, pass `M[0,0]`"
      ]
    },
    {
      "cell_type": "code",
      "metadata": {
        "id": "vSl0s1pearRX",
        "colab_type": "code",
        "colab": {
          "base_uri": "https://localhost:8080/",
          "height": 34
        },
        "outputId": "765de006-1c17-41f3-dfbe-34ceea7e37e9"
      },
      "source": [
        "print('Element 1,1:', M[0,0])"
      ],
      "execution_count": null,
      "outputs": [
        {
          "output_type": "stream",
          "text": [
            "Element 1,1: 10\n"
          ],
          "name": "stdout"
        }
      ]
    },
    {
      "cell_type": "markdown",
      "metadata": {
        "id": "jYsSp21tawWZ",
        "colab_type": "text"
      },
      "source": [
        "Likewise, print element $M_{1,3}$"
      ]
    },
    {
      "cell_type": "code",
      "metadata": {
        "id": "j0u5ErXxa8tN",
        "colab_type": "code",
        "colab": {
          "base_uri": "https://localhost:8080/",
          "height": 34
        },
        "outputId": "e5e54291-b306-464b-ecb8-a5e799b23c01"
      },
      "source": [
        "print('Element 1,3:', M[0,2])"
      ],
      "execution_count": null,
      "outputs": [
        {
          "output_type": "stream",
          "text": [
            "Element 1,3: 30\n"
          ],
          "name": "stdout"
        }
      ]
    },
    {
      "cell_type": "markdown",
      "metadata": {
        "id": "MYYXCEakfxCO",
        "colab_type": "text"
      },
      "source": [
        "Print all elements in row 2, or element $M_{2,n}$"
      ]
    },
    {
      "cell_type": "code",
      "metadata": {
        "id": "B8k61Xqdf6hd",
        "colab_type": "code",
        "colab": {
          "base_uri": "https://localhost:8080/",
          "height": 34
        },
        "outputId": "2550af56-3566-4772-e805-fa71fe8819cd"
      },
      "source": [
        "print('All elements in second row:', M[1,:])"
      ],
      "execution_count": null,
      "outputs": [
        {
          "output_type": "stream",
          "text": [
            "All elements in second row: [50 70 90]\n"
          ],
          "name": "stdout"
        }
      ]
    },
    {
      "cell_type": "markdown",
      "metadata": {
        "id": "UhOv-RLjgE4-",
        "colab_type": "text"
      },
      "source": [
        "And print all elements in column 2, or element $M_{n,2}$"
      ]
    },
    {
      "cell_type": "code",
      "metadata": {
        "id": "1FL9VsVvgKLm",
        "colab_type": "code",
        "colab": {
          "base_uri": "https://localhost:8080/",
          "height": 34
        },
        "outputId": "6e4346b7-99c1-47a3-b48a-6b13c69c9cb4"
      },
      "source": [
        "print('All elements in second column:', M[:,1])"
      ],
      "execution_count": null,
      "outputs": [
        {
          "output_type": "stream",
          "text": [
            "All elements in second column: [20 70 14]\n"
          ],
          "name": "stdout"
        }
      ]
    },
    {
      "cell_type": "markdown",
      "metadata": {
        "id": "d_zTU-8LaCJD",
        "colab_type": "text"
      },
      "source": [
        "## Data cleansing"
      ]
    },
    {
      "cell_type": "markdown",
      "metadata": {
        "id": "Av21pss7fqyf",
        "colab_type": "text"
      },
      "source": [
        "Create an array that consists of NaN values with `np.nan`"
      ]
    },
    {
      "cell_type": "code",
      "metadata": {
        "id": "sZNWheokeoFQ",
        "colab_type": "code",
        "colab": {}
      },
      "source": [
        "my_array = np.array([np.nan, 15, np.nan, 20, np.nan, 34, np.nan, np.nan, 67, 30, 10, np.nan, 34, np.nan, 50, 25, np.nan])"
      ],
      "execution_count": null,
      "outputs": []
    },
    {
      "cell_type": "markdown",
      "metadata": {
        "id": "k2tlh0URgVNS",
        "colab_type": "text"
      },
      "source": [
        "Check if there is `NaN` values in an array. Returns `True` if there's any. Unless, it returns `False` (Boolean argument)."
      ]
    },
    {
      "cell_type": "code",
      "metadata": {
        "id": "rCfG2YAmgaol",
        "colab_type": "code",
        "colab": {
          "base_uri": "https://localhost:8080/",
          "height": 34
        },
        "outputId": "66dca012-e627-435c-a945-29e76dbf7b1a"
      },
      "source": [
        "np.isnan(my_array).any()"
      ],
      "execution_count": null,
      "outputs": [
        {
          "output_type": "execute_result",
          "data": {
            "text/plain": [
              "True"
            ]
          },
          "metadata": {
            "tags": []
          },
          "execution_count": 26
        }
      ]
    },
    {
      "cell_type": "markdown",
      "metadata": {
        "id": "RbkTJut-iiwi",
        "colab_type": "text"
      },
      "source": [
        "Removing `NaN` values from the array (just delete the `NaN` elements)"
      ]
    },
    {
      "cell_type": "code",
      "metadata": {
        "id": "TIAQgVhYioGA",
        "colab_type": "code",
        "colab": {
          "base_uri": "https://localhost:8080/",
          "height": 34
        },
        "outputId": "045984cc-64a1-470d-d1b5-639d5b1d9b3c"
      },
      "source": [
        "nan_remove = my_array[~np.isnan(my_array)]\n",
        "nan_remove"
      ],
      "execution_count": null,
      "outputs": [
        {
          "output_type": "execute_result",
          "data": {
            "text/plain": [
              "array([15., 20., 34., 67., 30., 10., 34., 50., 25.])"
            ]
          },
          "metadata": {
            "tags": []
          },
          "execution_count": 27
        }
      ]
    },
    {
      "cell_type": "markdown",
      "metadata": {
        "id": "SxyMcF9Wg0cG",
        "colab_type": "text"
      },
      "source": [
        "Replacing (imputing) `NaN` values with any number. E.g. 0"
      ]
    },
    {
      "cell_type": "code",
      "metadata": {
        "id": "0eBGus-7hDU4",
        "colab_type": "code",
        "colab": {
          "base_uri": "https://localhost:8080/",
          "height": 52
        },
        "outputId": "e1bcb0c3-3b6e-4f18-f291-ca2a04ce3d36"
      },
      "source": [
        "# replace with zeros\n",
        "\n",
        "# first make a new array to store the imputed data, name it new_array\n",
        "new_array = np.array(my_array)\n",
        "\n",
        "# replace with zeros\n",
        "new_array[np.isnan(new_array)]=0\n",
        "new_array"
      ],
      "execution_count": null,
      "outputs": [
        {
          "output_type": "execute_result",
          "data": {
            "text/plain": [
              "array([ 0., 15.,  0., 20.,  0., 34.,  0.,  0., 67., 30., 10.,  0., 34.,\n",
              "        0., 50., 25.,  0.])"
            ]
          },
          "metadata": {
            "tags": []
          },
          "execution_count": 28
        }
      ]
    },
    {
      "cell_type": "markdown",
      "metadata": {
        "id": "bM23Aux0h-r3",
        "colab_type": "text"
      },
      "source": [
        "Imputing `NaN` values with the mean of the data"
      ]
    },
    {
      "cell_type": "code",
      "metadata": {
        "id": "O2xyvIFQiFK4",
        "colab_type": "code",
        "colab": {
          "base_uri": "https://localhost:8080/",
          "height": 86
        },
        "outputId": "c6004879-2089-4a61-e054-73bfe236eb36"
      },
      "source": [
        "# calculate mean of the non-NaN values \n",
        "# we already have nan_remove array\n",
        "\n",
        "mean = np.mean(nan_remove)\n",
        "\n",
        "# # first make a new array to store the imputed data, name it new_array\n",
        "new_array = np.array(my_array)\n",
        "\n",
        "# replace with the mean values\n",
        "new_array[np.isnan(new_array)]=mean\n",
        "new_array"
      ],
      "execution_count": null,
      "outputs": [
        {
          "output_type": "execute_result",
          "data": {
            "text/plain": [
              "array([31.66666667, 15.        , 31.66666667, 20.        , 31.66666667,\n",
              "       34.        , 31.66666667, 31.66666667, 67.        , 30.        ,\n",
              "       10.        , 31.66666667, 34.        , 31.66666667, 50.        ,\n",
              "       25.        , 31.66666667])"
            ]
          },
          "metadata": {
            "tags": []
          },
          "execution_count": 29
        }
      ]
    },
    {
      "cell_type": "markdown",
      "metadata": {
        "id": "Xz0LHEMtac22",
        "colab_type": "text"
      },
      "source": [
        "### Element Search"
      ]
    },
    {
      "cell_type": "markdown",
      "metadata": {
        "id": "owZ8sF-QkRdq",
        "colab_type": "text"
      },
      "source": [
        "Create arbitrary array"
      ]
    },
    {
      "cell_type": "code",
      "metadata": {
        "id": "UNCEuLTzjwhZ",
        "colab_type": "code",
        "colab": {}
      },
      "source": [
        "my_array = np.array([10, 20, 30, 40, 50, 60, 70, 80, 90, 100, 110, 120, 130, 140, 150])"
      ],
      "execution_count": null,
      "outputs": []
    },
    {
      "cell_type": "markdown",
      "metadata": {
        "id": "MTa03iIzka7F",
        "colab_type": "text"
      },
      "source": [
        "Search if there is any element with value $70$ of the created array. Returns `True` if there's any. Unless, it returns `False` (Boolean argument)."
      ]
    },
    {
      "cell_type": "code",
      "metadata": {
        "id": "txRlxZuNkk_K",
        "colab_type": "code",
        "colab": {
          "base_uri": "https://localhost:8080/",
          "height": 34
        },
        "outputId": "e6205a31-8f80-4cbc-fe6d-6379a26003b0"
      },
      "source": [
        "np.any(my_array == 70)"
      ],
      "execution_count": null,
      "outputs": [
        {
          "output_type": "execute_result",
          "data": {
            "text/plain": [
              "True"
            ]
          },
          "metadata": {
            "tags": []
          },
          "execution_count": 31
        }
      ]
    },
    {
      "cell_type": "markdown",
      "metadata": {
        "id": "gUvbC1KjlIah",
        "colab_type": "text"
      },
      "source": [
        "Check what index of the element with value $70$ is in the array "
      ]
    },
    {
      "cell_type": "code",
      "metadata": {
        "id": "6xPlQALMlWDd",
        "colab_type": "code",
        "colab": {
          "base_uri": "https://localhost:8080/",
          "height": 34
        },
        "outputId": "72579abe-d485-4f18-c207-293dd9a41e0a"
      },
      "source": [
        "np.where(my_array == 70)[0]"
      ],
      "execution_count": null,
      "outputs": [
        {
          "output_type": "execute_result",
          "data": {
            "text/plain": [
              "array([6])"
            ]
          },
          "metadata": {
            "tags": []
          },
          "execution_count": 32
        }
      ]
    },
    {
      "cell_type": "markdown",
      "metadata": {
        "id": "e7kFNx_Yl5tM",
        "colab_type": "text"
      },
      "source": [
        "Check what index of the element with values **less than** $70$"
      ]
    },
    {
      "cell_type": "code",
      "metadata": {
        "id": "dZ-iObkql3Wa",
        "colab_type": "code",
        "colab": {
          "base_uri": "https://localhost:8080/",
          "height": 34
        },
        "outputId": "9ad48840-42bb-47de-b171-6af8ba2c1b65"
      },
      "source": [
        "np.where(my_array < 70)[0]"
      ],
      "execution_count": null,
      "outputs": [
        {
          "output_type": "execute_result",
          "data": {
            "text/plain": [
              "array([0, 1, 2, 3, 4, 5])"
            ]
          },
          "metadata": {
            "tags": []
          },
          "execution_count": 33
        }
      ]
    },
    {
      "cell_type": "markdown",
      "metadata": {
        "id": "4u7x4gB3m1h-",
        "colab_type": "text"
      },
      "source": [
        "Data QC: Replace all values that are **less than** $70$ with certain value"
      ]
    },
    {
      "cell_type": "code",
      "metadata": {
        "id": "NtJ20TCfmeLK",
        "colab_type": "code",
        "colab": {
          "base_uri": "https://localhost:8080/",
          "height": 52
        },
        "outputId": "fc9600ef-78af-41ed-a482-cb61c9893829"
      },
      "source": [
        "# first make a new array to store the replaced data, name it new_array\n",
        "new_array = np.array(my_array)\n",
        "\n",
        "# replace with value 10\n",
        "new_array[new_array < 70] = 10\n",
        "new_array"
      ],
      "execution_count": null,
      "outputs": [
        {
          "output_type": "execute_result",
          "data": {
            "text/plain": [
              "array([ 10,  10,  10,  10,  10,  10,  70,  80,  90, 100, 110, 120, 130,\n",
              "       140, 150])"
            ]
          },
          "metadata": {
            "tags": []
          },
          "execution_count": 34
        }
      ]
    },
    {
      "cell_type": "markdown",
      "metadata": {
        "id": "7mpjnUVxyuaD",
        "colab_type": "text"
      },
      "source": [
        "## Read text file"
      ]
    },
    {
      "cell_type": "markdown",
      "metadata": {
        "id": "7Ylxg1glyzjT",
        "colab_type": "text"
      },
      "source": [
        "We use `np.loadtxt` to read a text file. \n",
        "\n",
        "An example here is given a `sincos.txt` file inside the GitHub repository. The file contains numerical result of sine and cosine function."
      ]
    },
    {
      "cell_type": "markdown",
      "metadata": {
        "id": "mHsoNYa87FC8",
        "colab_type": "text"
      },
      "source": [
        "First, we specify the file path. "
      ]
    },
    {
      "cell_type": "code",
      "metadata": {
        "id": "OYI2CRltywY4",
        "colab_type": "code",
        "colab": {}
      },
      "source": [
        "# copy the path in \"Table of Contents\" tab in Colab, and paste\n",
        "filepath = '/content/python-bootcamp-for-geoengineers/data/sincos.txt'"
      ],
      "execution_count": null,
      "outputs": []
    },
    {
      "cell_type": "markdown",
      "metadata": {
        "id": "bll3_3u07RX8",
        "colab_type": "text"
      },
      "source": [
        "Open with `np.loadtxt`"
      ]
    },
    {
      "cell_type": "code",
      "metadata": {
        "id": "bk2xlordDpvB",
        "colab_type": "code",
        "colab": {
          "base_uri": "https://localhost:8080/",
          "height": 138
        },
        "outputId": "97fec210-959f-4835-c709-6c9443d1c0c7"
      },
      "source": [
        "data = np.loadtxt(filepath)\n",
        "data"
      ],
      "execution_count": null,
      "outputs": [
        {
          "output_type": "execute_result",
          "data": {
            "text/plain": [
              "array([[ 0.00000000e+00,  0.00000000e+00,  1.00000000e+00],\n",
              "       [ 3.60360360e-01,  6.28943332e-03,  9.99980221e-01],\n",
              "       [ 7.20720721e-01,  1.25786178e-02,  9.99920886e-01],\n",
              "       ...,\n",
              "       [ 3.59279279e+02, -1.25786178e-02,  9.99920886e-01],\n",
              "       [ 3.59639640e+02, -6.28943332e-03,  9.99980221e-01],\n",
              "       [ 3.60000000e+02, -2.44929360e-16,  1.00000000e+00]])"
            ]
          },
          "metadata": {
            "tags": []
          },
          "execution_count": 51
        }
      ]
    },
    {
      "cell_type": "markdown",
      "metadata": {
        "id": "t5i31W8W7V_w",
        "colab_type": "text"
      },
      "source": [
        "Check its shape"
      ]
    },
    {
      "cell_type": "code",
      "metadata": {
        "id": "pLo-6EPJ7XnT",
        "colab_type": "code",
        "colab": {
          "base_uri": "https://localhost:8080/",
          "height": 34
        },
        "outputId": "e3c28c57-d12f-4d59-a350-a550209f0ad1"
      },
      "source": [
        "data.shape"
      ],
      "execution_count": null,
      "outputs": [
        {
          "output_type": "execute_result",
          "data": {
            "text/plain": [
              "(1000, 3)"
            ]
          },
          "metadata": {
            "tags": []
          },
          "execution_count": 52
        }
      ]
    },
    {
      "cell_type": "markdown",
      "metadata": {
        "id": "hSLvnYSB7Zym",
        "colab_type": "text"
      },
      "source": [
        "It has 1,000 rows and 3 columns."
      ]
    },
    {
      "cell_type": "markdown",
      "metadata": {
        "id": "S1phkb9QhgHF",
        "colab_type": "text"
      },
      "source": [
        "# Matplotlib"
      ]
    },
    {
      "cell_type": "markdown",
      "metadata": {
        "id": "lyF6MiagEwr1",
        "colab_type": "text"
      },
      "source": [
        "### Plot and its accessories"
      ]
    },
    {
      "cell_type": "markdown",
      "metadata": {
        "id": "o4hwjVnl7crs",
        "colab_type": "text"
      },
      "source": [
        "In this session, we will use the data that we have imported using `np.loadtxt` earlier.\n",
        "\n",
        "It has 3 columns. First column is $x$ values, second column is result of $\\sin(x)$, and the third column is result of $\\cos(x)$."
      ]
    },
    {
      "cell_type": "code",
      "metadata": {
        "id": "QlKgIWTDiqp6",
        "colab_type": "code",
        "colab": {}
      },
      "source": [
        "x = data[:,0]\n",
        "sinx = data[:,1]\n",
        "cosx = data[:,2]"
      ],
      "execution_count": null,
      "outputs": []
    },
    {
      "cell_type": "markdown",
      "metadata": {
        "id": "I90AFqCQ72CJ",
        "colab_type": "text"
      },
      "source": [
        "Next we make a plot using Matplotlib Pyplot (or `plt`)."
      ]
    },
    {
      "cell_type": "code",
      "metadata": {
        "id": "edS8dnTI708y",
        "colab_type": "code",
        "colab": {
          "base_uri": "https://localhost:8080/",
          "height": 265
        },
        "outputId": "a36e52f1-c79a-40c2-c56e-856201e9ef17"
      },
      "source": [
        "# plot\n",
        "plt.plot(x, sinx)\n",
        "plt.plot(x, cosx)\n",
        "plt.show()"
      ],
      "execution_count": null,
      "outputs": [
        {
          "output_type": "display_data",
          "data": {
            "image/png": "[encoded data removed]",
            "text/plain": [
              "<Figure size 432x288 with 1 Axes>"
            ]
          },
          "metadata": {
            "tags": [],
            "needs_background": "light"
          }
        }
      ]
    },
    {
      "cell_type": "markdown",
      "metadata": {
        "id": "eR90X42F79hW",
        "colab_type": "text"
      },
      "source": [
        "In every plot, we need to give plot attributes (title, label, legend) and may change the color of curve. We will modify this now."
      ]
    },
    {
      "cell_type": "code",
      "metadata": {
        "id": "0-MgALfnju2g",
        "colab_type": "code",
        "colab": {
          "base_uri": "https://localhost:8080/",
          "height": 364
        },
        "outputId": "c31d9858-3158-40cc-d7e6-47bbf273809b"
      },
      "source": [
        "# resize the plot\n",
        "plt.figure(figsize=(10,5))\n",
        "\n",
        "# plot, specify color, linetype, linewidth, and give labels \n",
        "plt.plot(x, sinx, '.', color='purple', label='y=sin(x)')\n",
        "plt.plot(x, cosx, '-', color='green', linewidth=3, label='y=cos(x)')\n",
        "\n",
        "# give title, with size and pad\n",
        "plt.title('Sine and Cosine Function', size=20, pad=10)\n",
        "\n",
        "# give labels, with size\n",
        "plt.xlabel('x', size=15)\n",
        "plt.ylabel('y', size=15)\n",
        "\n",
        "# limit the axes\n",
        "plt.xlim(0, 360)\n",
        "\n",
        "# show the legends and specify its location in the plot\n",
        "plt.legend(loc='upper center')\n",
        "\n",
        "# show the grids\n",
        "plt.grid()\n",
        "\n",
        "plt.show()"
      ],
      "execution_count": null,
      "outputs": [
        {
          "output_type": "display_data",
          "data": {
            "image/png": "[encoded data removed]",
            "text/plain": [
              "<Figure size 720x360 with 1 Axes>"
            ]
          },
          "metadata": {
            "tags": [],
            "needs_background": "light"
          }
        }
      ]
    },
    {
      "cell_type": "markdown",
      "metadata": {
        "id": "w25FYkPHk3g0",
        "colab_type": "text"
      },
      "source": [
        "### Subplot"
      ]
    },
    {
      "cell_type": "markdown",
      "metadata": {
        "id": "vlxUJQyv9G1P",
        "colab_type": "text"
      },
      "source": [
        "What we'll do now is to create our own data using a sine function. "
      ]
    },
    {
      "cell_type": "code",
      "metadata": {
        "id": "-VKjAKuy7YK0",
        "colab_type": "code",
        "colab": {}
      },
      "source": [
        "x = np.linspace(-3, 3, 1000)\n",
        "y1 = np.sin(np.pi * x)\n",
        "y2 = np.sin(np.pi * x) + (0.3 * (np.sin(3 * np.pi * x)))\n",
        "y3 = np.sin(np.pi * x) + (0.3 * (np.sin(3 * np.pi * x))) + (0.2 * (np.sin(5 * np.pi * x)))\n",
        "y4 = np.sin(np.pi * x) + (0.3 * (np.sin(3 * np.pi * x))) + (0.2 * (np.sin(5 * np.pi * x))) + (0.1 * (np.sin(7 * np.pi * x)))"
      ],
      "execution_count": null,
      "outputs": []
    },
    {
      "cell_type": "markdown",
      "metadata": {
        "id": "_p7jRMlJ9T3F",
        "colab_type": "text"
      },
      "source": [
        "Next, plot all of the results, using `subplots` so you will have all plots side by side."
      ]
    },
    {
      "cell_type": "code",
      "metadata": {
        "id": "mx0QFDBD-a6n",
        "colab_type": "code",
        "colab": {
          "base_uri": "https://localhost:8080/",
          "height": 558
        },
        "outputId": "97f07a83-e7ef-4523-dac6-3c90fa4154b9"
      },
      "source": [
        "plt.figure(figsize=(15,10))\n",
        "\n",
        "plt.suptitle('Fourier Series', size=20)\n",
        "\n",
        "plt.subplot(2,2,1)\n",
        "plt.plot(x, y1, color='black')\n",
        "plt.title(r'$y=\\sin(x)$', size=15, pad=10)\n",
        "plt.xlabel('x', size=10)\n",
        "plt.ylabel('y', size=10)\n",
        "plt.xlim(min(x), max(x))\n",
        "plt.grid()\n",
        "\n",
        "plt.subplot(2,2,2)\n",
        "plt.plot(x, y2, color='red')\n",
        "plt.title(r'$y=\\sin(x)+0.3\\sin(3x)$', size=15, pad=10)\n",
        "plt.xlabel('x', size=10)\n",
        "plt.ylabel('y', size=10)\n",
        "plt.xlim(min(x), max(x))\n",
        "plt.grid()\n",
        "\n",
        "plt.subplot(2,2,3)\n",
        "plt.plot(x, y3, color='blue')\n",
        "plt.title(r'$y=\\sin(x)+0.3\\sin(3x)+0.2\\sin(5x)$', size=15, pad=10)\n",
        "plt.xlabel('x', size=10)\n",
        "plt.ylabel('y', size=10)\n",
        "plt.xlim(min(x), max(x))\n",
        "plt.grid()\n",
        "\n",
        "plt.subplot(2,2,4)\n",
        "plt.plot(x, y4, color='green')\n",
        "plt.title(r'$y=\\sin(x)+0.3\\sin(3x)+0.2\\sin(5x)+0.1\\sin(7x)$', size=15, pad=10)\n",
        "plt.xlabel('x', size=10)\n",
        "plt.ylabel('y', size=10)\n",
        "plt.xlim(min(x), max(x))\n",
        "plt.grid()\n",
        "\n",
        "# set distance between subplots\n",
        "plt.tight_layout(4)\n",
        "\n",
        "plt.show()"
      ],
      "execution_count": null,
      "outputs": [
        {
          "output_type": "display_data",
          "data": {
            "image/png": "[encoded data removed]",
            "text/plain": [
              "<Figure size 1080x720 with 4 Axes>"
            ]
          },
          "metadata": {
            "tags": [],
            "needs_background": "light"
          }
        }
      ]
    },
    {
      "cell_type": "markdown",
      "metadata": {
        "id": "frq0R658YviO",
        "colab_type": "text"
      },
      "source": [
        "# Pandas"
      ]
    },
    {
      "cell_type": "markdown",
      "metadata": {
        "id": "OiEpv7wtgXjF",
        "colab_type": "text"
      },
      "source": [
        "### Create a Dataframe"
      ]
    },
    {
      "cell_type": "code",
      "metadata": {
        "id": "mB1pWDhVgbWY",
        "colab_type": "code",
        "colab": {}
      },
      "source": [
        "company = np.array(['ConocoPhillips', 'Royal Dutch Shell', 'Equinor ASA', 'Sonatrach', 'Petronas'])\n",
        "country = np.array(['USA', 'Netherlands', 'Norway', 'Algeria', 'Malaysia'])\n",
        "date = np.array(['2002/08/02', '1907/04/23', '1972/06/14', '1963/12/31', '1974/08/07'])"
      ],
      "execution_count": null,
      "outputs": []
    },
    {
      "cell_type": "code",
      "metadata": {
        "id": "5RB0uWRLmG_L",
        "colab_type": "code",
        "colab": {
          "base_uri": "https://localhost:8080/",
          "height": 198
        },
        "outputId": "417659d1-3bb5-4fef-feea-6dc4edfeb5c5"
      },
      "source": [
        "company_df = pd.DataFrame({'Company': company, 'Country': country, 'Date Founded': date})\n",
        "company_df"
      ],
      "execution_count": null,
      "outputs": [
        {
          "output_type": "execute_result",
          "data": {
            "text/html": [
              "<div>\n",
              "<style scoped>\n",
              "    .dataframe tbody tr th:only-of-type {\n",
              "        vertical-align: middle;\n",
              "    }\n",
              "\n",
              "    .dataframe tbody tr th {\n",
              "        vertical-align: top;\n",
              "    }\n",
              "\n",
              "    .dataframe thead th {\n",
              "        text-align: right;\n",
              "    }\n",
              "</style>\n",
              "<table border=\"1\" class=\"dataframe\">\n",
              "  <thead>\n",
              "    <tr style=\"text-align: right;\">\n",
              "      <th></th>\n",
              "      <th>Company</th>\n",
              "      <th>Country</th>\n",
              "      <th>Date Founded</th>\n",
              "    </tr>\n",
              "  </thead>\n",
              "  <tbody>\n",
              "    <tr>\n",
              "      <th>0</th>\n",
              "      <td>ConocoPhillips</td>\n",
              "      <td>USA</td>\n",
              "      <td>2002/08/02</td>\n",
              "    </tr>\n",
              "    <tr>\n",
              "      <th>1</th>\n",
              "      <td>Royal Dutch Shell</td>\n",
              "      <td>Netherlands</td>\n",
              "      <td>1907/04/23</td>\n",
              "    </tr>\n",
              "    <tr>\n",
              "      <th>2</th>\n",
              "      <td>Equinor ASA</td>\n",
              "      <td>Norway</td>\n",
              "      <td>1972/06/14</td>\n",
              "    </tr>\n",
              "    <tr>\n",
              "      <th>3</th>\n",
              "      <td>Sonatrach</td>\n",
              "      <td>Algeria</td>\n",
              "      <td>1963/12/31</td>\n",
              "    </tr>\n",
              "    <tr>\n",
              "      <th>4</th>\n",
              "      <td>Petronas</td>\n",
              "      <td>Malaysia</td>\n",
              "      <td>1974/08/07</td>\n",
              "    </tr>\n",
              "  </tbody>\n",
              "</table>\n",
              "</div>"
            ],
            "text/plain": [
              "             Company      Country Date Founded\n",
              "0     ConocoPhillips          USA   2002/08/02\n",
              "1  Royal Dutch Shell  Netherlands   1907/04/23\n",
              "2        Equinor ASA       Norway   1972/06/14\n",
              "3          Sonatrach      Algeria   1963/12/31\n",
              "4           Petronas     Malaysia   1974/08/07"
            ]
          },
          "metadata": {
            "tags": []
          },
          "execution_count": 27
        }
      ]
    },
    {
      "cell_type": "markdown",
      "metadata": {
        "id": "3YzEVp89rhAq",
        "colab_type": "text"
      },
      "source": [
        "#### Basic elements of Dataframe"
      ]
    },
    {
      "cell_type": "code",
      "metadata": {
        "id": "J_0nORpkrjgm",
        "colab_type": "code",
        "colab": {
          "base_uri": "https://localhost:8080/",
          "height": 121
        },
        "outputId": "11d32345-ef7a-411a-a46e-1d9ed996d69b"
      },
      "source": [
        "company_df['Company']"
      ],
      "execution_count": null,
      "outputs": [
        {
          "output_type": "execute_result",
          "data": {
            "text/plain": [
              "0       ConocoPhillips\n",
              "1    Royal Dutch Shell\n",
              "2          Equinor ASA\n",
              "3            Sonatrach\n",
              "4             Petronas\n",
              "Name: Company, dtype: object"
            ]
          },
          "metadata": {
            "tags": []
          },
          "execution_count": 28
        }
      ]
    },
    {
      "cell_type": "code",
      "metadata": {
        "id": "RwfzKGlsrp6i",
        "colab_type": "code",
        "colab": {
          "base_uri": "https://localhost:8080/",
          "height": 86
        },
        "outputId": "240c002f-cb77-4482-8ffe-c61b8401a7ef"
      },
      "source": [
        "company_df.iloc[2]"
      ],
      "execution_count": null,
      "outputs": [
        {
          "output_type": "execute_result",
          "data": {
            "text/plain": [
              "Company         Equinor ASA\n",
              "Country              Norway\n",
              "Date Founded     1972/06/14\n",
              "Name: 2, dtype: object"
            ]
          },
          "metadata": {
            "tags": []
          },
          "execution_count": 29
        }
      ]
    },
    {
      "cell_type": "markdown",
      "metadata": {
        "id": "LIHmexQIsCgx",
        "colab_type": "text"
      },
      "source": [
        "#### Convert a column data to Array"
      ]
    },
    {
      "cell_type": "code",
      "metadata": {
        "id": "rw3-dItOsG0G",
        "colab_type": "code",
        "colab": {
          "base_uri": "https://localhost:8080/",
          "height": 52
        },
        "outputId": "7f88be3a-eef0-467e-e1d5-cbf1f19e0a36"
      },
      "source": [
        "company_df['Company'].values"
      ],
      "execution_count": null,
      "outputs": [
        {
          "output_type": "execute_result",
          "data": {
            "text/plain": [
              "array(['ConocoPhillips', 'Royal Dutch Shell', 'Equinor ASA', 'Sonatrach',\n",
              "       'Petronas'], dtype=object)"
            ]
          },
          "metadata": {
            "tags": []
          },
          "execution_count": 30
        }
      ]
    },
    {
      "cell_type": "markdown",
      "metadata": {
        "id": "pwJN4bHrrPra",
        "colab_type": "text"
      },
      "source": [
        "#### Adding new column to the dataframe"
      ]
    },
    {
      "cell_type": "code",
      "metadata": {
        "id": "6F0NZS3uniEk",
        "colab_type": "code",
        "colab": {
          "base_uri": "https://localhost:8080/",
          "height": 198
        },
        "outputId": "4a4bed11-07c5-4735-98b6-7c9d60357258"
      },
      "source": [
        "employee = np.array([11400, 82000, 20000, 120000, 51000])\n",
        "\n",
        "company_df['Employee'] = employee\n",
        "company_df"
      ],
      "execution_count": null,
      "outputs": [
        {
          "output_type": "execute_result",
          "data": {
            "text/html": [
              "<div>\n",
              "<style scoped>\n",
              "    .dataframe tbody tr th:only-of-type {\n",
              "        vertical-align: middle;\n",
              "    }\n",
              "\n",
              "    .dataframe tbody tr th {\n",
              "        vertical-align: top;\n",
              "    }\n",
              "\n",
              "    .dataframe thead th {\n",
              "        text-align: right;\n",
              "    }\n",
              "</style>\n",
              "<table border=\"1\" class=\"dataframe\">\n",
              "  <thead>\n",
              "    <tr style=\"text-align: right;\">\n",
              "      <th></th>\n",
              "      <th>Company</th>\n",
              "      <th>Country</th>\n",
              "      <th>Date Founded</th>\n",
              "      <th>Employee</th>\n",
              "    </tr>\n",
              "  </thead>\n",
              "  <tbody>\n",
              "    <tr>\n",
              "      <th>0</th>\n",
              "      <td>ConocoPhillips</td>\n",
              "      <td>USA</td>\n",
              "      <td>2002/08/02</td>\n",
              "      <td>11400</td>\n",
              "    </tr>\n",
              "    <tr>\n",
              "      <th>1</th>\n",
              "      <td>Royal Dutch Shell</td>\n",
              "      <td>Netherlands</td>\n",
              "      <td>1907/04/23</td>\n",
              "      <td>82000</td>\n",
              "    </tr>\n",
              "    <tr>\n",
              "      <th>2</th>\n",
              "      <td>Equinor ASA</td>\n",
              "      <td>Norway</td>\n",
              "      <td>1972/06/14</td>\n",
              "      <td>20000</td>\n",
              "    </tr>\n",
              "    <tr>\n",
              "      <th>3</th>\n",
              "      <td>Sonatrach</td>\n",
              "      <td>Algeria</td>\n",
              "      <td>1963/12/31</td>\n",
              "      <td>120000</td>\n",
              "    </tr>\n",
              "    <tr>\n",
              "      <th>4</th>\n",
              "      <td>Petronas</td>\n",
              "      <td>Malaysia</td>\n",
              "      <td>1974/08/07</td>\n",
              "      <td>51000</td>\n",
              "    </tr>\n",
              "  </tbody>\n",
              "</table>\n",
              "</div>"
            ],
            "text/plain": [
              "             Company      Country Date Founded  Employee\n",
              "0     ConocoPhillips          USA   2002/08/02     11400\n",
              "1  Royal Dutch Shell  Netherlands   1907/04/23     82000\n",
              "2        Equinor ASA       Norway   1972/06/14     20000\n",
              "3          Sonatrach      Algeria   1963/12/31    120000\n",
              "4           Petronas     Malaysia   1974/08/07     51000"
            ]
          },
          "metadata": {
            "tags": []
          },
          "execution_count": 31
        }
      ]
    },
    {
      "cell_type": "markdown",
      "metadata": {
        "id": "AuiJ-PfcsvrG",
        "colab_type": "text"
      },
      "source": [
        "#### Display summary statistics"
      ]
    },
    {
      "cell_type": "code",
      "metadata": {
        "id": "N3h1_Ygqrzrk",
        "colab_type": "code",
        "colab": {
          "base_uri": "https://localhost:8080/",
          "height": 288
        },
        "outputId": "a153ea1f-c92b-44fd-b6e4-836e24478d4f"
      },
      "source": [
        "company_df.describe()"
      ],
      "execution_count": null,
      "outputs": [
        {
          "output_type": "execute_result",
          "data": {
            "text/html": [
              "<div>\n",
              "<style scoped>\n",
              "    .dataframe tbody tr th:only-of-type {\n",
              "        vertical-align: middle;\n",
              "    }\n",
              "\n",
              "    .dataframe tbody tr th {\n",
              "        vertical-align: top;\n",
              "    }\n",
              "\n",
              "    .dataframe thead th {\n",
              "        text-align: right;\n",
              "    }\n",
              "</style>\n",
              "<table border=\"1\" class=\"dataframe\">\n",
              "  <thead>\n",
              "    <tr style=\"text-align: right;\">\n",
              "      <th></th>\n",
              "      <th>Employee</th>\n",
              "    </tr>\n",
              "  </thead>\n",
              "  <tbody>\n",
              "    <tr>\n",
              "      <th>count</th>\n",
              "      <td>5.000000</td>\n",
              "    </tr>\n",
              "    <tr>\n",
              "      <th>mean</th>\n",
              "      <td>56880.000000</td>\n",
              "    </tr>\n",
              "    <tr>\n",
              "      <th>std</th>\n",
              "      <td>44939.648419</td>\n",
              "    </tr>\n",
              "    <tr>\n",
              "      <th>min</th>\n",
              "      <td>11400.000000</td>\n",
              "    </tr>\n",
              "    <tr>\n",
              "      <th>25%</th>\n",
              "      <td>20000.000000</td>\n",
              "    </tr>\n",
              "    <tr>\n",
              "      <th>50%</th>\n",
              "      <td>51000.000000</td>\n",
              "    </tr>\n",
              "    <tr>\n",
              "      <th>75%</th>\n",
              "      <td>82000.000000</td>\n",
              "    </tr>\n",
              "    <tr>\n",
              "      <th>max</th>\n",
              "      <td>120000.000000</td>\n",
              "    </tr>\n",
              "  </tbody>\n",
              "</table>\n",
              "</div>"
            ],
            "text/plain": [
              "            Employee\n",
              "count       5.000000\n",
              "mean    56880.000000\n",
              "std     44939.648419\n",
              "min     11400.000000\n",
              "25%     20000.000000\n",
              "50%     51000.000000\n",
              "75%     82000.000000\n",
              "max    120000.000000"
            ]
          },
          "metadata": {
            "tags": []
          },
          "execution_count": 32
        }
      ]
    },
    {
      "cell_type": "markdown",
      "metadata": {
        "id": "3XKMMGlbrWuM",
        "colab_type": "text"
      },
      "source": [
        "#### Convert to Datetime Format"
      ]
    },
    {
      "cell_type": "code",
      "metadata": {
        "id": "i-hENuOHqR6T",
        "colab_type": "code",
        "colab": {
          "base_uri": "https://localhost:8080/",
          "height": 121
        },
        "outputId": "f2db94eb-451e-4b13-e772-46e3c2cb2e69"
      },
      "source": [
        "company_df['Date Founded']"
      ],
      "execution_count": null,
      "outputs": [
        {
          "output_type": "execute_result",
          "data": {
            "text/plain": [
              "0    2002/08/02\n",
              "1    1907/04/23\n",
              "2    1972/06/14\n",
              "3    1963/12/31\n",
              "4    1974/08/07\n",
              "Name: Date Founded, dtype: object"
            ]
          },
          "metadata": {
            "tags": []
          },
          "execution_count": 33
        }
      ]
    },
    {
      "cell_type": "markdown",
      "metadata": {
        "id": "HOuXhzU5qKJ-",
        "colab_type": "text"
      },
      "source": [
        "Format check web: https://strftime.org/"
      ]
    },
    {
      "cell_type": "code",
      "metadata": {
        "id": "eOXirsDHoZC0",
        "colab_type": "code",
        "colab": {
          "base_uri": "https://localhost:8080/",
          "height": 198
        },
        "outputId": "0238c326-71b3-4097-e075-36ba3c45c2f6"
      },
      "source": [
        "company_df['Date Founded'] =  pd.to_datetime(company_df['Date Founded'], format='%Y/%m/%d')\n",
        "\n",
        "company_df"
      ],
      "execution_count": null,
      "outputs": [
        {
          "output_type": "execute_result",
          "data": {
            "text/html": [
              "<div>\n",
              "<style scoped>\n",
              "    .dataframe tbody tr th:only-of-type {\n",
              "        vertical-align: middle;\n",
              "    }\n",
              "\n",
              "    .dataframe tbody tr th {\n",
              "        vertical-align: top;\n",
              "    }\n",
              "\n",
              "    .dataframe thead th {\n",
              "        text-align: right;\n",
              "    }\n",
              "</style>\n",
              "<table border=\"1\" class=\"dataframe\">\n",
              "  <thead>\n",
              "    <tr style=\"text-align: right;\">\n",
              "      <th></th>\n",
              "      <th>Company</th>\n",
              "      <th>Country</th>\n",
              "      <th>Date Founded</th>\n",
              "      <th>Employee</th>\n",
              "    </tr>\n",
              "  </thead>\n",
              "  <tbody>\n",
              "    <tr>\n",
              "      <th>0</th>\n",
              "      <td>ConocoPhillips</td>\n",
              "      <td>USA</td>\n",
              "      <td>2002-08-02</td>\n",
              "      <td>11400</td>\n",
              "    </tr>\n",
              "    <tr>\n",
              "      <th>1</th>\n",
              "      <td>Royal Dutch Shell</td>\n",
              "      <td>Netherlands</td>\n",
              "      <td>1907-04-23</td>\n",
              "      <td>82000</td>\n",
              "    </tr>\n",
              "    <tr>\n",
              "      <th>2</th>\n",
              "      <td>Equinor ASA</td>\n",
              "      <td>Norway</td>\n",
              "      <td>1972-06-14</td>\n",
              "      <td>20000</td>\n",
              "    </tr>\n",
              "    <tr>\n",
              "      <th>3</th>\n",
              "      <td>Sonatrach</td>\n",
              "      <td>Algeria</td>\n",
              "      <td>1963-12-31</td>\n",
              "      <td>120000</td>\n",
              "    </tr>\n",
              "    <tr>\n",
              "      <th>4</th>\n",
              "      <td>Petronas</td>\n",
              "      <td>Malaysia</td>\n",
              "      <td>1974-08-07</td>\n",
              "      <td>51000</td>\n",
              "    </tr>\n",
              "  </tbody>\n",
              "</table>\n",
              "</div>"
            ],
            "text/plain": [
              "             Company      Country Date Founded  Employee\n",
              "0     ConocoPhillips          USA   2002-08-02     11400\n",
              "1  Royal Dutch Shell  Netherlands   1907-04-23     82000\n",
              "2        Equinor ASA       Norway   1972-06-14     20000\n",
              "3          Sonatrach      Algeria   1963-12-31    120000\n",
              "4           Petronas     Malaysia   1974-08-07     51000"
            ]
          },
          "metadata": {
            "tags": []
          },
          "execution_count": 34
        }
      ]
    },
    {
      "cell_type": "code",
      "metadata": {
        "id": "LV6zNmyCqoY5",
        "colab_type": "code",
        "colab": {
          "base_uri": "https://localhost:8080/",
          "height": 121
        },
        "outputId": "759ad0fd-612a-49bb-85c1-425e16330a69"
      },
      "source": [
        "company_df['Date Founded']"
      ],
      "execution_count": null,
      "outputs": [
        {
          "output_type": "execute_result",
          "data": {
            "text/plain": [
              "0   2002-08-02\n",
              "1   1907-04-23\n",
              "2   1972-06-14\n",
              "3   1963-12-31\n",
              "4   1974-08-07\n",
              "Name: Date Founded, dtype: datetime64[ns]"
            ]
          },
          "metadata": {
            "tags": []
          },
          "execution_count": 35
        }
      ]
    },
    {
      "cell_type": "markdown",
      "metadata": {
        "id": "QZZmKS2rvPrT",
        "colab_type": "text"
      },
      "source": [
        "#### Accessing Dataframe columns and rows"
      ]
    },
    {
      "cell_type": "markdown",
      "metadata": {
        "id": "dBE8H5USvmHm",
        "colab_type": "text"
      },
      "source": [
        "Display the \"Country\" column"
      ]
    },
    {
      "cell_type": "code",
      "metadata": {
        "id": "aa6jFUygvbJX",
        "colab_type": "code",
        "colab": {
          "base_uri": "https://localhost:8080/",
          "height": 121
        },
        "outputId": "6416eaea-3ca0-459c-aa7e-940a08b91554"
      },
      "source": [
        "company_df['Country']"
      ],
      "execution_count": null,
      "outputs": [
        {
          "output_type": "execute_result",
          "data": {
            "text/plain": [
              "0            USA\n",
              "1    Netherlands\n",
              "2         Norway\n",
              "3        Algeria\n",
              "4       Malaysia\n",
              "Name: Country, dtype: object"
            ]
          },
          "metadata": {
            "tags": []
          },
          "execution_count": 37
        }
      ]
    },
    {
      "cell_type": "markdown",
      "metadata": {
        "id": "CJt6aglev5sP",
        "colab_type": "text"
      },
      "source": [
        "Or alternatively we can search by its column index. Let's display the fourth column"
      ]
    },
    {
      "cell_type": "code",
      "metadata": {
        "id": "WHYTYvypwBDp",
        "colab_type": "code",
        "colab": {
          "base_uri": "https://localhost:8080/",
          "height": 121
        },
        "outputId": "ccb54bcf-96b1-48ac-d995-446e8b16c559"
      },
      "source": [
        "company_df.iloc[:,3]"
      ],
      "execution_count": null,
      "outputs": [
        {
          "output_type": "execute_result",
          "data": {
            "text/plain": [
              "0     11400\n",
              "1     82000\n",
              "2     20000\n",
              "3    120000\n",
              "4     51000\n",
              "Name: Employee, dtype: int64"
            ]
          },
          "metadata": {
            "tags": []
          },
          "execution_count": 42
        }
      ]
    },
    {
      "cell_type": "markdown",
      "metadata": {
        "id": "dozcLGAAvtv6",
        "colab_type": "text"
      },
      "source": [
        "Display the third row"
      ]
    },
    {
      "cell_type": "code",
      "metadata": {
        "id": "oJHBXwEuvxJt",
        "colab_type": "code",
        "colab": {
          "base_uri": "https://localhost:8080/",
          "height": 104
        },
        "outputId": "5b6173d1-799e-4268-ad7f-2a2ae9ea647d"
      },
      "source": [
        "company_df.iloc[2,:]"
      ],
      "execution_count": null,
      "outputs": [
        {
          "output_type": "execute_result",
          "data": {
            "text/plain": [
              "Company                 Equinor ASA\n",
              "Country                      Norway\n",
              "Date Founded    1972-06-14 00:00:00\n",
              "Employee                      20000\n",
              "Name: 2, dtype: object"
            ]
          },
          "metadata": {
            "tags": []
          },
          "execution_count": 39
        }
      ]
    },
    {
      "cell_type": "markdown",
      "metadata": {
        "id": "VE3ctgu6wO2y",
        "colab_type": "text"
      },
      "source": [
        "### Slicing dataframe"
      ]
    },
    {
      "cell_type": "markdown",
      "metadata": {
        "id": "et6GshiHwRqv",
        "colab_type": "text"
      },
      "source": [
        "In any case, we may want to select only portion of the dataframe. For example, we want to get the **first two colums** only. "
      ]
    },
    {
      "cell_type": "code",
      "metadata": {
        "id": "pyYFwO2Uwd-y",
        "colab_type": "code",
        "colab": {
          "base_uri": "https://localhost:8080/",
          "height": 198
        },
        "outputId": "cc82493d-ed5b-41fe-a4b7-46966569556d"
      },
      "source": [
        "company_df.iloc[:, 0:2]"
      ],
      "execution_count": null,
      "outputs": [
        {
          "output_type": "execute_result",
          "data": {
            "text/html": [
              "<div>\n",
              "<style scoped>\n",
              "    .dataframe tbody tr th:only-of-type {\n",
              "        vertical-align: middle;\n",
              "    }\n",
              "\n",
              "    .dataframe tbody tr th {\n",
              "        vertical-align: top;\n",
              "    }\n",
              "\n",
              "    .dataframe thead th {\n",
              "        text-align: right;\n",
              "    }\n",
              "</style>\n",
              "<table border=\"1\" class=\"dataframe\">\n",
              "  <thead>\n",
              "    <tr style=\"text-align: right;\">\n",
              "      <th></th>\n",
              "      <th>Company</th>\n",
              "      <th>Country</th>\n",
              "    </tr>\n",
              "  </thead>\n",
              "  <tbody>\n",
              "    <tr>\n",
              "      <th>0</th>\n",
              "      <td>ConocoPhillips</td>\n",
              "      <td>USA</td>\n",
              "    </tr>\n",
              "    <tr>\n",
              "      <th>1</th>\n",
              "      <td>Royal Dutch Shell</td>\n",
              "      <td>Netherlands</td>\n",
              "    </tr>\n",
              "    <tr>\n",
              "      <th>2</th>\n",
              "      <td>Equinor ASA</td>\n",
              "      <td>Norway</td>\n",
              "    </tr>\n",
              "    <tr>\n",
              "      <th>3</th>\n",
              "      <td>Sonatrach</td>\n",
              "      <td>Algeria</td>\n",
              "    </tr>\n",
              "    <tr>\n",
              "      <th>4</th>\n",
              "      <td>Petronas</td>\n",
              "      <td>Malaysia</td>\n",
              "    </tr>\n",
              "  </tbody>\n",
              "</table>\n",
              "</div>"
            ],
            "text/plain": [
              "             Company      Country\n",
              "0     ConocoPhillips          USA\n",
              "1  Royal Dutch Shell  Netherlands\n",
              "2        Equinor ASA       Norway\n",
              "3          Sonatrach      Algeria\n",
              "4           Petronas     Malaysia"
            ]
          },
          "metadata": {
            "tags": []
          },
          "execution_count": 44
        }
      ]
    },
    {
      "cell_type": "markdown",
      "metadata": {
        "id": "PrYSMrJQwzbj",
        "colab_type": "text"
      },
      "source": [
        "Also, we may want to get the **first two columns**, omitting the rest."
      ]
    },
    {
      "cell_type": "code",
      "metadata": {
        "id": "sUAZuY-ww6IL",
        "colab_type": "code",
        "colab": {
          "base_uri": "https://localhost:8080/",
          "height": 108
        },
        "outputId": "ff98abe2-1253-4478-97ea-d78cf3132192"
      },
      "source": [
        "company_df.iloc[0:2, :]"
      ],
      "execution_count": null,
      "outputs": [
        {
          "output_type": "execute_result",
          "data": {
            "text/html": [
              "<div>\n",
              "<style scoped>\n",
              "    .dataframe tbody tr th:only-of-type {\n",
              "        vertical-align: middle;\n",
              "    }\n",
              "\n",
              "    .dataframe tbody tr th {\n",
              "        vertical-align: top;\n",
              "    }\n",
              "\n",
              "    .dataframe thead th {\n",
              "        text-align: right;\n",
              "    }\n",
              "</style>\n",
              "<table border=\"1\" class=\"dataframe\">\n",
              "  <thead>\n",
              "    <tr style=\"text-align: right;\">\n",
              "      <th></th>\n",
              "      <th>Company</th>\n",
              "      <th>Country</th>\n",
              "      <th>Date Founded</th>\n",
              "      <th>Employee</th>\n",
              "    </tr>\n",
              "  </thead>\n",
              "  <tbody>\n",
              "    <tr>\n",
              "      <th>0</th>\n",
              "      <td>ConocoPhillips</td>\n",
              "      <td>USA</td>\n",
              "      <td>2002-08-02</td>\n",
              "      <td>11400</td>\n",
              "    </tr>\n",
              "    <tr>\n",
              "      <th>1</th>\n",
              "      <td>Royal Dutch Shell</td>\n",
              "      <td>Netherlands</td>\n",
              "      <td>1907-04-23</td>\n",
              "      <td>82000</td>\n",
              "    </tr>\n",
              "  </tbody>\n",
              "</table>\n",
              "</div>"
            ],
            "text/plain": [
              "             Company      Country Date Founded  Employee\n",
              "0     ConocoPhillips          USA   2002-08-02     11400\n",
              "1  Royal Dutch Shell  Netherlands   1907-04-23     82000"
            ]
          },
          "metadata": {
            "tags": []
          },
          "execution_count": 46
        }
      ]
    },
    {
      "cell_type": "markdown",
      "metadata": {
        "id": "Yqqj-dXulmqr",
        "colab_type": "text"
      },
      "source": [
        "## Data Analysis of PetroWeek 2020 Registrants"
      ]
    },
    {
      "cell_type": "markdown",
      "metadata": {
        "id": "tuU5aozRzRya",
        "colab_type": "text"
      },
      "source": [
        "Let us analyze the registrant data of this PetroWeek 2020 Python training. Data is in CSV format. First, we specify the file path. "
      ]
    },
    {
      "cell_type": "code",
      "metadata": {
        "id": "b4JibTj4zaIR",
        "colab_type": "code",
        "colab": {}
      },
      "source": [
        "filepath = '/content/python-bootcamp-for-geoengineers/data/registrant_data_petroweek2020.csv'"
      ],
      "execution_count": null,
      "outputs": []
    },
    {
      "cell_type": "markdown",
      "metadata": {
        "id": "iipNwcyl0XMW",
        "colab_type": "text"
      },
      "source": [
        "Then open the data using Pandas `read_csv`"
      ]
    },
    {
      "cell_type": "code",
      "metadata": {
        "id": "9-0Y9wTL0hE9",
        "colab_type": "code",
        "colab": {}
      },
      "source": [
        "registrant = pd.read_csv('/content/python-bootcamp-for-geoengineers/data/registrant_data_petroweek2020.csv',\n",
        "                         encoding = \"ISO-8859-1\")"
      ],
      "execution_count": null,
      "outputs": []
    },
    {
      "cell_type": "markdown",
      "metadata": {
        "id": "i7bpmiWE3ZjN",
        "colab_type": "text"
      },
      "source": [
        "Now you can take the overview of data by viewing its `head` and `tail`."
      ]
    },
    {
      "cell_type": "code",
      "metadata": {
        "id": "v-qgME5K3Y0b",
        "colab_type": "code",
        "colab": {
          "base_uri": "https://localhost:8080/",
          "height": 470
        },
        "outputId": "946e41d1-4fc8-4553-b3ef-18c8747ec839"
      },
      "source": [
        "registrant.head(10)"
      ],
      "execution_count": null,
      "outputs": [
        {
          "output_type": "execute_result",
          "data": {
            "text/html": [
              "<div>\n",
              "<style scoped>\n",
              "    .dataframe tbody tr th:only-of-type {\n",
              "        vertical-align: middle;\n",
              "    }\n",
              "\n",
              "    .dataframe tbody tr th {\n",
              "        vertical-align: top;\n",
              "    }\n",
              "\n",
              "    .dataframe thead th {\n",
              "        text-align: right;\n",
              "    }\n",
              "</style>\n",
              "<table border=\"1\" class=\"dataframe\">\n",
              "  <thead>\n",
              "    <tr style=\"text-align: right;\">\n",
              "      <th></th>\n",
              "      <th>Name</th>\n",
              "      <th>University</th>\n",
              "      <th>Major / Batch</th>\n",
              "      <th>Unnamed: 3</th>\n",
              "      <th>Unnamed: 4</th>\n",
              "      <th>Unnamed: 5</th>\n",
              "    </tr>\n",
              "  </thead>\n",
              "  <tbody>\n",
              "    <tr>\n",
              "      <th>0</th>\n",
              "      <td>BOYKE DEO JHON INDRA UTAMA SIHITE</td>\n",
              "      <td>TRISAKTI UNIVERSITY</td>\n",
              "      <td>petroleum engineering</td>\n",
              "      <td>NaN</td>\n",
              "      <td>NaN</td>\n",
              "      <td>NaN</td>\n",
              "    </tr>\n",
              "    <tr>\n",
              "      <th>1</th>\n",
              "      <td>michelle</td>\n",
              "      <td>usakti</td>\n",
              "      <td>pe/18</td>\n",
              "      <td>NaN</td>\n",
              "      <td>NaN</td>\n",
              "      <td>NaN</td>\n",
              "    </tr>\n",
              "    <tr>\n",
              "      <th>2</th>\n",
              "      <td>Alfan Khoirul Umam</td>\n",
              "      <td>Universitas Jember</td>\n",
              "      <td>Teknik Perminyakan/2019</td>\n",
              "      <td>NaN</td>\n",
              "      <td>NaN</td>\n",
              "      <td>NaN</td>\n",
              "    </tr>\n",
              "    <tr>\n",
              "      <th>3</th>\n",
              "      <td>Theo Rifaldi Siregar</td>\n",
              "      <td>UGM</td>\n",
              "      <td>Geological Engineering</td>\n",
              "      <td>NaN</td>\n",
              "      <td>NaN</td>\n",
              "      <td>NaN</td>\n",
              "    </tr>\n",
              "    <tr>\n",
              "      <th>4</th>\n",
              "      <td>Alfian Gilang Gumelar</td>\n",
              "      <td>UPN Yogyakarta</td>\n",
              "      <td>Teknik Geologi/ 2016</td>\n",
              "      <td>NaN</td>\n",
              "      <td>NaN</td>\n",
              "      <td>NaN</td>\n",
              "    </tr>\n",
              "    <tr>\n",
              "      <th>5</th>\n",
              "      <td>Namira Fitriyani</td>\n",
              "      <td>Universitas Islam Indonesia</td>\n",
              "      <td>NaN</td>\n",
              "      <td>NaN</td>\n",
              "      <td>NaN</td>\n",
              "      <td>NaN</td>\n",
              "    </tr>\n",
              "    <tr>\n",
              "      <th>6</th>\n",
              "      <td>Shirley</td>\n",
              "      <td>Bandung Institute of Technology</td>\n",
              "      <td>Petroleum Engineering / 2019</td>\n",
              "      <td>NaN</td>\n",
              "      <td>NaN</td>\n",
              "      <td>NaN</td>\n",
              "    </tr>\n",
              "    <tr>\n",
              "      <th>7</th>\n",
              "      <td>Evan Fadhil Nurhakim</td>\n",
              "      <td>University of Indonesia</td>\n",
              "      <td>Chemical Engineering / 2019</td>\n",
              "      <td>NaN</td>\n",
              "      <td>NaN</td>\n",
              "      <td>NaN</td>\n",
              "    </tr>\n",
              "    <tr>\n",
              "      <th>8</th>\n",
              "      <td>Reifandi Redhiza</td>\n",
              "      <td>Pertamina University</td>\n",
              "      <td>Petroleum Engineering/2016</td>\n",
              "      <td>NaN</td>\n",
              "      <td>NaN</td>\n",
              "      <td>NaN</td>\n",
              "    </tr>\n",
              "    <tr>\n",
              "      <th>9</th>\n",
              "      <td>Ahmat Syukron Haqqulyakin</td>\n",
              "      <td>STT migas Balikpapan</td>\n",
              "      <td>2018</td>\n",
              "      <td>NaN</td>\n",
              "      <td>NaN</td>\n",
              "      <td>NaN</td>\n",
              "    </tr>\n",
              "  </tbody>\n",
              "</table>\n",
              "</div>"
            ],
            "text/plain": [
              "                                Name  ... Unnamed: 5\n",
              "0  BOYKE DEO JHON INDRA UTAMA SIHITE  ...        NaN\n",
              "1                           michelle  ...        NaN\n",
              "2                 Alfan Khoirul Umam  ...        NaN\n",
              "3               Theo Rifaldi Siregar  ...        NaN\n",
              "4              Alfian Gilang Gumelar  ...        NaN\n",
              "5                   Namira Fitriyani  ...        NaN\n",
              "6                            Shirley  ...        NaN\n",
              "7               Evan Fadhil Nurhakim  ...        NaN\n",
              "8                   Reifandi Redhiza  ...        NaN\n",
              "9          Ahmat Syukron Haqqulyakin  ...        NaN\n",
              "\n",
              "[10 rows x 6 columns]"
            ]
          },
          "metadata": {
            "tags": []
          },
          "execution_count": 61
        }
      ]
    },
    {
      "cell_type": "code",
      "metadata": {
        "id": "zogg-8V14u7W",
        "colab_type": "code",
        "colab": {
          "base_uri": "https://localhost:8080/",
          "height": 435
        },
        "outputId": "9b674cb5-bd3b-4d80-cd6a-60315bb69fc6"
      },
      "source": [
        "registrant.tail(10)"
      ],
      "execution_count": null,
      "outputs": [
        {
          "output_type": "execute_result",
          "data": {
            "text/html": [
              "<div>\n",
              "<style scoped>\n",
              "    .dataframe tbody tr th:only-of-type {\n",
              "        vertical-align: middle;\n",
              "    }\n",
              "\n",
              "    .dataframe tbody tr th {\n",
              "        vertical-align: top;\n",
              "    }\n",
              "\n",
              "    .dataframe thead th {\n",
              "        text-align: right;\n",
              "    }\n",
              "</style>\n",
              "<table border=\"1\" class=\"dataframe\">\n",
              "  <thead>\n",
              "    <tr style=\"text-align: right;\">\n",
              "      <th></th>\n",
              "      <th>Name</th>\n",
              "      <th>University</th>\n",
              "      <th>Major / Batch</th>\n",
              "      <th>Unnamed: 3</th>\n",
              "      <th>Unnamed: 4</th>\n",
              "      <th>Unnamed: 5</th>\n",
              "    </tr>\n",
              "  </thead>\n",
              "  <tbody>\n",
              "    <tr>\n",
              "      <th>444</th>\n",
              "      <td>Vikas Kooneti</td>\n",
              "      <td>University of Portsmouth</td>\n",
              "      <td>Petroleum Engineering</td>\n",
              "      <td>NaN</td>\n",
              "      <td>NaN</td>\n",
              "      <td>NaN</td>\n",
              "    </tr>\n",
              "    <tr>\n",
              "      <th>445</th>\n",
              "      <td>Prili lauma</td>\n",
              "      <td>Trisakti</td>\n",
              "      <td>Pe 18</td>\n",
              "      <td>NaN</td>\n",
              "      <td>NaN</td>\n",
              "      <td>NaN</td>\n",
              "    </tr>\n",
              "    <tr>\n",
              "      <th>446</th>\n",
              "      <td>Nehal Khetani</td>\n",
              "      <td>Pandit Deendayal Petroleum University</td>\n",
              "      <td>Btech in Petroleum Engineering</td>\n",
              "      <td>NaN</td>\n",
              "      <td>NaN</td>\n",
              "      <td>NaN</td>\n",
              "    </tr>\n",
              "    <tr>\n",
              "      <th>447</th>\n",
              "      <td>Mohammed Gumati</td>\n",
              "      <td>Benghazi</td>\n",
              "      <td>Geophysics</td>\n",
              "      <td>NaN</td>\n",
              "      <td>NaN</td>\n",
              "      <td>NaN</td>\n",
              "    </tr>\n",
              "    <tr>\n",
              "      <th>448</th>\n",
              "      <td>ABOLAJI SAHEED BAYO</td>\n",
              "      <td>University of Ibadan</td>\n",
              "      <td>September</td>\n",
              "      <td>NaN</td>\n",
              "      <td>NaN</td>\n",
              "      <td>NaN</td>\n",
              "    </tr>\n",
              "    <tr>\n",
              "      <th>449</th>\n",
              "      <td>Moad Ben Ramadan</td>\n",
              "      <td>Montanuniversität Leoben Austria</td>\n",
              "      <td>Reservoir engineer</td>\n",
              "      <td>NaN</td>\n",
              "      <td>NaN</td>\n",
              "      <td>NaN</td>\n",
              "    </tr>\n",
              "    <tr>\n",
              "      <th>450</th>\n",
              "      <td>Febry roma rio</td>\n",
              "      <td>Islamic university of riau</td>\n",
              "      <td>Petroleum engineering / 2014</td>\n",
              "      <td>NaN</td>\n",
              "      <td>NaN</td>\n",
              "      <td>NaN</td>\n",
              "    </tr>\n",
              "    <tr>\n",
              "      <th>451</th>\n",
              "      <td>NaN</td>\n",
              "      <td>NaN</td>\n",
              "      <td>NaN</td>\n",
              "      <td>NaN</td>\n",
              "      <td>NaN</td>\n",
              "      <td>NaN</td>\n",
              "    </tr>\n",
              "    <tr>\n",
              "      <th>452</th>\n",
              "      <td>NaN</td>\n",
              "      <td>NaN</td>\n",
              "      <td>NaN</td>\n",
              "      <td>NaN</td>\n",
              "      <td>NaN</td>\n",
              "      <td>NaN</td>\n",
              "    </tr>\n",
              "    <tr>\n",
              "      <th>453</th>\n",
              "      <td>NaN</td>\n",
              "      <td>NaN</td>\n",
              "      <td>NaN</td>\n",
              "      <td>NaN</td>\n",
              "      <td>NaN</td>\n",
              "      <td>NaN</td>\n",
              "    </tr>\n",
              "  </tbody>\n",
              "</table>\n",
              "</div>"
            ],
            "text/plain": [
              "                    Name  ... Unnamed: 5\n",
              "444        Vikas Kooneti  ...        NaN\n",
              "445          Prili lauma  ...        NaN\n",
              "446        Nehal Khetani  ...        NaN\n",
              "447     Mohammed Gumati   ...        NaN\n",
              "448  ABOLAJI SAHEED BAYO  ...        NaN\n",
              "449     Moad Ben Ramadan  ...        NaN\n",
              "450       Febry roma rio  ...        NaN\n",
              "451                  NaN  ...        NaN\n",
              "452                  NaN  ...        NaN\n",
              "453                  NaN  ...        NaN\n",
              "\n",
              "[10 rows x 6 columns]"
            ]
          },
          "metadata": {
            "tags": []
          },
          "execution_count": 62
        }
      ]
    },
    {
      "cell_type": "markdown",
      "metadata": {
        "id": "l6z-1uLE2H6q",
        "colab_type": "text"
      },
      "source": [
        "Now as you can see, how MESSED UP our data is. Normally, we don't use the `encoding`. However, this raw data requires `encoding`. Also you can see 2 things:\n",
        "\n",
        "* The last 3 `Unnamed` columns has all `NaN` values\n",
        "* The last 3 rows has all `NaN` values (look its `tail`!)"
      ]
    },
    {
      "cell_type": "markdown",
      "metadata": {
        "id": "ehdLXkFL63hQ",
        "colab_type": "text"
      },
      "source": [
        "### Data cleansing 1: Delete Unwanted Columns"
      ]
    },
    {
      "cell_type": "markdown",
      "metadata": {
        "id": "ERKCup9GxNGE",
        "colab_type": "text"
      },
      "source": [
        "We want to remove the **last 3 rows** because they contain NaN values. We can use the `.iloc` technique that we have learnt just before."
      ]
    },
    {
      "cell_type": "code",
      "metadata": {
        "id": "XKqUKj5P2dNe",
        "colab_type": "code",
        "colab": {
          "base_uri": "https://localhost:8080/",
          "height": 349
        },
        "outputId": "91fb58f7-900f-483f-be72-34f2cf66ea47"
      },
      "source": [
        "registrant_edit = registrant.iloc[:,0:-3]\n",
        "registrant_edit.tail(10)"
      ],
      "execution_count": null,
      "outputs": [
        {
          "output_type": "execute_result",
          "data": {
            "text/html": [
              "<div>\n",
              "<style scoped>\n",
              "    .dataframe tbody tr th:only-of-type {\n",
              "        vertical-align: middle;\n",
              "    }\n",
              "\n",
              "    .dataframe tbody tr th {\n",
              "        vertical-align: top;\n",
              "    }\n",
              "\n",
              "    .dataframe thead th {\n",
              "        text-align: right;\n",
              "    }\n",
              "</style>\n",
              "<table border=\"1\" class=\"dataframe\">\n",
              "  <thead>\n",
              "    <tr style=\"text-align: right;\">\n",
              "      <th></th>\n",
              "      <th>Name</th>\n",
              "      <th>University</th>\n",
              "      <th>Major / Batch</th>\n",
              "    </tr>\n",
              "  </thead>\n",
              "  <tbody>\n",
              "    <tr>\n",
              "      <th>444</th>\n",
              "      <td>Vikas Kooneti</td>\n",
              "      <td>University of Portsmouth</td>\n",
              "      <td>Petroleum Engineering</td>\n",
              "    </tr>\n",
              "    <tr>\n",
              "      <th>445</th>\n",
              "      <td>Prili lauma</td>\n",
              "      <td>Trisakti</td>\n",
              "      <td>Pe 18</td>\n",
              "    </tr>\n",
              "    <tr>\n",
              "      <th>446</th>\n",
              "      <td>Nehal Khetani</td>\n",
              "      <td>Pandit Deendayal Petroleum University</td>\n",
              "      <td>Btech in Petroleum Engineering</td>\n",
              "    </tr>\n",
              "    <tr>\n",
              "      <th>447</th>\n",
              "      <td>Mohammed Gumati</td>\n",
              "      <td>Benghazi</td>\n",
              "      <td>Geophysics</td>\n",
              "    </tr>\n",
              "    <tr>\n",
              "      <th>448</th>\n",
              "      <td>ABOLAJI SAHEED BAYO</td>\n",
              "      <td>University of Ibadan</td>\n",
              "      <td>September</td>\n",
              "    </tr>\n",
              "    <tr>\n",
              "      <th>449</th>\n",
              "      <td>Moad Ben Ramadan</td>\n",
              "      <td>Montanuniversität Leoben Austria</td>\n",
              "      <td>Reservoir engineer</td>\n",
              "    </tr>\n",
              "    <tr>\n",
              "      <th>450</th>\n",
              "      <td>Febry roma rio</td>\n",
              "      <td>Islamic university of riau</td>\n",
              "      <td>Petroleum engineering / 2014</td>\n",
              "    </tr>\n",
              "    <tr>\n",
              "      <th>451</th>\n",
              "      <td>NaN</td>\n",
              "      <td>NaN</td>\n",
              "      <td>NaN</td>\n",
              "    </tr>\n",
              "    <tr>\n",
              "      <th>452</th>\n",
              "      <td>NaN</td>\n",
              "      <td>NaN</td>\n",
              "      <td>NaN</td>\n",
              "    </tr>\n",
              "    <tr>\n",
              "      <th>453</th>\n",
              "      <td>NaN</td>\n",
              "      <td>NaN</td>\n",
              "      <td>NaN</td>\n",
              "    </tr>\n",
              "  </tbody>\n",
              "</table>\n",
              "</div>"
            ],
            "text/plain": [
              "                    Name  ...                   Major / Batch\n",
              "444        Vikas Kooneti  ...          Petroleum Engineering \n",
              "445          Prili lauma  ...                           Pe 18\n",
              "446        Nehal Khetani  ...  Btech in Petroleum Engineering\n",
              "447     Mohammed Gumati   ...                     Geophysics \n",
              "448  ABOLAJI SAHEED BAYO  ...                       September\n",
              "449     Moad Ben Ramadan  ...             Reservoir engineer \n",
              "450       Febry roma rio  ...    Petroleum engineering / 2014\n",
              "451                  NaN  ...                             NaN\n",
              "452                  NaN  ...                             NaN\n",
              "453                  NaN  ...                             NaN\n",
              "\n",
              "[10 rows x 3 columns]"
            ]
          },
          "metadata": {
            "tags": []
          },
          "execution_count": 84
        }
      ]
    },
    {
      "cell_type": "markdown",
      "metadata": {
        "id": "7cxrOW6s69iX",
        "colab_type": "text"
      },
      "source": [
        "### Data cleansing 2: Delete Unwanted Rows"
      ]
    },
    {
      "cell_type": "markdown",
      "metadata": {
        "id": "XaY3HUVtxdfl",
        "colab_type": "text"
      },
      "source": [
        "Next, we want to remove the **last 3 columns** because they contain NaN values. Also we use `.iloc` "
      ]
    },
    {
      "cell_type": "code",
      "metadata": {
        "id": "g4LbU-HN7I0H",
        "colab_type": "code",
        "colab": {
          "base_uri": "https://localhost:8080/",
          "height": 349
        },
        "outputId": "588c4d7b-9688-441b-ee70-9ce7a6401341"
      },
      "source": [
        "registrant_edit = registrant_edit.iloc[0:-3,:]\n",
        "registrant_edit.tail(10)"
      ],
      "execution_count": null,
      "outputs": [
        {
          "output_type": "execute_result",
          "data": {
            "text/html": [
              "<div>\n",
              "<style scoped>\n",
              "    .dataframe tbody tr th:only-of-type {\n",
              "        vertical-align: middle;\n",
              "    }\n",
              "\n",
              "    .dataframe tbody tr th {\n",
              "        vertical-align: top;\n",
              "    }\n",
              "\n",
              "    .dataframe thead th {\n",
              "        text-align: right;\n",
              "    }\n",
              "</style>\n",
              "<table border=\"1\" class=\"dataframe\">\n",
              "  <thead>\n",
              "    <tr style=\"text-align: right;\">\n",
              "      <th></th>\n",
              "      <th>Name</th>\n",
              "      <th>University</th>\n",
              "      <th>Major / Batch</th>\n",
              "    </tr>\n",
              "  </thead>\n",
              "  <tbody>\n",
              "    <tr>\n",
              "      <th>441</th>\n",
              "      <td>Sobia Fatima</td>\n",
              "      <td>DUET</td>\n",
              "      <td>Petroleum and Gas Engineering</td>\n",
              "    </tr>\n",
              "    <tr>\n",
              "      <th>442</th>\n",
              "      <td>Anwar Santoso</td>\n",
              "      <td>ITB</td>\n",
              "      <td>Prtroleum Enginerring 2017</td>\n",
              "    </tr>\n",
              "    <tr>\n",
              "      <th>443</th>\n",
              "      <td>Rizky Wijaya Saputra</td>\n",
              "      <td>University of Balikpapan</td>\n",
              "      <td>Mechanical Engineering / 2019</td>\n",
              "    </tr>\n",
              "    <tr>\n",
              "      <th>444</th>\n",
              "      <td>Vikas Kooneti</td>\n",
              "      <td>University of Portsmouth</td>\n",
              "      <td>Petroleum Engineering</td>\n",
              "    </tr>\n",
              "    <tr>\n",
              "      <th>445</th>\n",
              "      <td>Prili lauma</td>\n",
              "      <td>Trisakti</td>\n",
              "      <td>Pe 18</td>\n",
              "    </tr>\n",
              "    <tr>\n",
              "      <th>446</th>\n",
              "      <td>Nehal Khetani</td>\n",
              "      <td>Pandit Deendayal Petroleum University</td>\n",
              "      <td>Btech in Petroleum Engineering</td>\n",
              "    </tr>\n",
              "    <tr>\n",
              "      <th>447</th>\n",
              "      <td>Mohammed Gumati</td>\n",
              "      <td>Benghazi</td>\n",
              "      <td>Geophysics</td>\n",
              "    </tr>\n",
              "    <tr>\n",
              "      <th>448</th>\n",
              "      <td>ABOLAJI SAHEED BAYO</td>\n",
              "      <td>University of Ibadan</td>\n",
              "      <td>September</td>\n",
              "    </tr>\n",
              "    <tr>\n",
              "      <th>449</th>\n",
              "      <td>Moad Ben Ramadan</td>\n",
              "      <td>Montanuniversität Leoben Austria</td>\n",
              "      <td>Reservoir engineer</td>\n",
              "    </tr>\n",
              "    <tr>\n",
              "      <th>450</th>\n",
              "      <td>Febry roma rio</td>\n",
              "      <td>Islamic university of riau</td>\n",
              "      <td>Petroleum engineering / 2014</td>\n",
              "    </tr>\n",
              "  </tbody>\n",
              "</table>\n",
              "</div>"
            ],
            "text/plain": [
              "                     Name  ...                   Major / Batch\n",
              "441          Sobia Fatima  ...  Petroleum and Gas Engineering \n",
              "442         Anwar Santoso  ...      Prtroleum Enginerring 2017\n",
              "443  Rizky Wijaya Saputra  ...   Mechanical Engineering / 2019\n",
              "444         Vikas Kooneti  ...          Petroleum Engineering \n",
              "445           Prili lauma  ...                           Pe 18\n",
              "446         Nehal Khetani  ...  Btech in Petroleum Engineering\n",
              "447      Mohammed Gumati   ...                     Geophysics \n",
              "448   ABOLAJI SAHEED BAYO  ...                       September\n",
              "449      Moad Ben Ramadan  ...             Reservoir engineer \n",
              "450        Febry roma rio  ...    Petroleum engineering / 2014\n",
              "\n",
              "[10 rows x 3 columns]"
            ]
          },
          "metadata": {
            "tags": []
          },
          "execution_count": 86
        }
      ]
    },
    {
      "cell_type": "markdown",
      "metadata": {
        "id": "mPfgiBuuEl2B",
        "colab_type": "text"
      },
      "source": [
        "### How many registrants in this course ?"
      ]
    },
    {
      "cell_type": "code",
      "metadata": {
        "id": "OY2oVe9AEp4L",
        "colab_type": "code",
        "colab": {
          "base_uri": "https://localhost:8080/",
          "height": 86
        },
        "outputId": "5c295cef-8ca5-494c-c1c6-b5248c6e4c10"
      },
      "source": [
        "registrant_edit.count()"
      ],
      "execution_count": null,
      "outputs": [
        {
          "output_type": "execute_result",
          "data": {
            "text/plain": [
              "Name             449\n",
              "University       427\n",
              "Major / Batch    417\n",
              "dtype: int64"
            ]
          },
          "metadata": {
            "tags": []
          },
          "execution_count": 90
        }
      ]
    },
    {
      "cell_type": "markdown",
      "metadata": {
        "id": "nZU5KHWsCNfl",
        "colab_type": "text"
      },
      "source": [
        "### Data analysis: Visualize pie diagram based on registrants' major"
      ]
    },
    {
      "cell_type": "markdown",
      "metadata": {
        "id": "gSbK37LZCSET",
        "colab_type": "text"
      },
      "source": [
        "Now that our data has been edited, we'd like to visualize the majors of the registrants in this course !\n",
        "\n",
        "First, do a slicing of the column that contains major, `Major / Batch`"
      ]
    },
    {
      "cell_type": "code",
      "metadata": {
        "id": "ukmorbw5EE3R",
        "colab_type": "code",
        "colab": {
          "base_uri": "https://localhost:8080/",
          "height": 224
        },
        "outputId": "0e245437-8c93-489d-fe55-c3a3fd3c91a0"
      },
      "source": [
        "major = registrant_edit['Major / Batch']\n",
        "major"
      ],
      "execution_count": null,
      "outputs": [
        {
          "output_type": "execute_result",
          "data": {
            "text/plain": [
              "0               petroleum engineering\n",
              "1                               pe/18\n",
              "2             Teknik Perminyakan/2019\n",
              "3              Geological Engineering\n",
              "4                Teknik Geologi/ 2016\n",
              "                    ...              \n",
              "446    Btech in Petroleum Engineering\n",
              "447                       Geophysics \n",
              "448                         September\n",
              "449               Reservoir engineer \n",
              "450      Petroleum engineering / 2014\n",
              "Name: Major / Batch, Length: 451, dtype: object"
            ]
          },
          "metadata": {
            "tags": []
          },
          "execution_count": 91
        }
      ]
    },
    {
      "cell_type": "markdown",
      "metadata": {
        "id": "5E9dzmUdGatW",
        "colab_type": "text"
      },
      "source": [
        "Before continuing, we need to REMOVE all rows that contain `NaN` values, so we can sort well. "
      ]
    },
    {
      "cell_type": "code",
      "metadata": {
        "id": "6P7w7_sNGevV",
        "colab_type": "code",
        "colab": {
          "base_uri": "https://localhost:8080/",
          "height": 224
        },
        "outputId": "13f1eb8a-1fd0-4faa-cd93-950392a245dd"
      },
      "source": [
        "major = major.dropna()\n",
        "major"
      ],
      "execution_count": null,
      "outputs": [
        {
          "output_type": "execute_result",
          "data": {
            "text/plain": [
              "0               petroleum engineering\n",
              "1                               pe/18\n",
              "2             Teknik Perminyakan/2019\n",
              "3              Geological Engineering\n",
              "4                Teknik Geologi/ 2016\n",
              "                    ...              \n",
              "446    Btech in Petroleum Engineering\n",
              "447                       Geophysics \n",
              "448                         September\n",
              "449               Reservoir engineer \n",
              "450      Petroleum engineering / 2014\n",
              "Name: Major / Batch, Length: 417, dtype: object"
            ]
          },
          "metadata": {
            "tags": []
          },
          "execution_count": 92
        }
      ]
    },
    {
      "cell_type": "markdown",
      "metadata": {
        "id": "Smaszqk7UPpi",
        "colab_type": "text"
      },
      "source": [
        "Now, do the sorting. Here we'd like to count: **How many participants are from major \"X\" ???**\n",
        "\n",
        "We do this using `str.contains`, meaning we find in the \"Major\" colum, which row has string that contains sub-string. Confused?\n",
        "\n",
        "For example, major Petroleum Engineering. We could find it by searching a substring such as `Petro`.\n",
        "\n",
        "Next on, we pass `.count()` to count all rows that contains this sub-string."
      ]
    },
    {
      "cell_type": "code",
      "metadata": {
        "id": "blCHzlB9CXwf",
        "colab_type": "code",
        "colab": {}
      },
      "source": [
        "# count all majors (in English)\n",
        "petroleum_major1 = major[major.str.contains('Petro')].count()\n",
        "geophysics_major1 = major[major.str.contains('Geoph')].count()\n",
        "geology_major = major[major.str.contains('Geol')].count()\n",
        "mech_major = major[major.str.contains('Mech')].count()\n",
        "electrical_major = major[major.str.contains('Electr')].count()\n",
        "chemical_major = major[major.str.contains('Chem')].count()\n",
        "material_major = major[major.str.contains('Material')].count()\n",
        "metallurgy_major = major[major.str.contains('Metal')].count()\n",
        "astronomy_major = major[major.str.contains('Astro')].count()\n",
        "economy_major = major[major.str.contains('Econo')].count()\n",
        "marine_major = major[major.str.contains('Marine')].count()"
      ],
      "execution_count": null,
      "outputs": []
    },
    {
      "cell_type": "markdown",
      "metadata": {
        "id": "hQxs74JgVBtz",
        "colab_type": "text"
      },
      "source": [
        "Because some participants are from Indonesia, they inputted in the registration form in Indonesian language. So, we apply the sorting too. "
      ]
    },
    {
      "cell_type": "code",
      "metadata": {
        "id": "lQOinACFLyKE",
        "colab_type": "code",
        "colab": {}
      },
      "source": [
        "# count all majors (in Bahasa)\n",
        "petroleum_major2 = major[major.str.contains('minyak')].count()\n",
        "geophysics_major2 = major[major.str.contains('Geof')].count()"
      ],
      "execution_count": null,
      "outputs": []
    },
    {
      "cell_type": "markdown",
      "metadata": {
        "id": "DNqS-LgCVRf7",
        "colab_type": "text"
      },
      "source": [
        "Next, we sum up the major which in English and Bahasa, into one individual sum. "
      ]
    },
    {
      "cell_type": "code",
      "metadata": {
        "id": "0d17D7fIMhxB",
        "colab_type": "code",
        "colab": {}
      },
      "source": [
        "# summing majors in English and in Bahasa\n",
        "petroleum_major = np.sum([petroleum_major1, petroleum_major2])\n",
        "geophysics_major = np.sum([geophysics_major1, geophysics_major2])"
      ],
      "execution_count": null,
      "outputs": []
    },
    {
      "cell_type": "markdown",
      "metadata": {
        "id": "k6TrAUwJVZMs",
        "colab_type": "text"
      },
      "source": [
        "Finally, we create a pie diagram using Matplotlib that we learnt before. Use: `plt.pie`"
      ]
    },
    {
      "cell_type": "code",
      "metadata": {
        "id": "X2D98K69OZoC",
        "colab_type": "code",
        "colab": {
          "base_uri": "https://localhost:8080/",
          "height": 683
        },
        "outputId": "2033daf4-3548-457b-b0e8-e6547b5d345f"
      },
      "source": [
        "major_name = ['Petroleum', 'Geophysics', 'Geology', 'Mechanical', 'Electrical',\n",
        "              'Chemical', 'Material', 'Metallurgy', 'Astronomy', 'Economy', 'Marine']\n",
        "major_count = [petroleum_major, geophysics_major, geology_major,\n",
        "               mech_major, electrical_major, chemical_major, material_major,\n",
        "               metallurgy_major, astronomy_major, economy_major, marine_major]\n",
        "explode = [0, 0.1, 0.1, 0.2, 0.2 , 0.2, 0.2, 0.2, 0.2, 0.2, 0.2]\n",
        "\n",
        "plt.figure(figsize=(20,12))\n",
        "plt.pie(major_count, labels=major_name, explode=explode, autopct='%1.1f%%')\n",
        "plt.show() "
      ],
      "execution_count": null,
      "outputs": [
        {
          "output_type": "display_data",
          "data": {
            "image/png": "[encoded data removed]",
            "text/plain": [
              "<Figure size 1440x864 with 1 Axes>"
            ]
          },
          "metadata": {
            "tags": []
          }
        }
      ]
    }
  ]
}