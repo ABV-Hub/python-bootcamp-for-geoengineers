{
  "nbformat": 4,
  "nbformat_minor": 0,
  "metadata": {
    "colab": {
      "name": "demo_starting_python_E&P_1hour.ipynb",
      "provenance": [],
      "collapsed_sections": [
        "1bzdzcjfAuEs"
      ],
      "authorship_tag": "ABX9TyPTW4KjYtgIqO4nlk5pRCX4",
      "include_colab_link": true
    },
    "kernelspec": {
      "name": "python3",
      "display_name": "Python 3"
    }
  },
  "cells": [
    {
      "cell_type": "markdown",
      "metadata": {
        "id": "view-in-github",
        "colab_type": "text"
      },
      "source": [
        "<a href=\"https://colab.research.google.com/github/yohanesnuwara/python-bootcamp-for-geoengineers/blob/master/demo_starting_python_E%26P_1hour.ipynb\" target=\"_parent\"><img src=\"https://colab.research.google.com/assets/colab-badge.svg\" alt=\"Open In Colab\"/></a>"
      ]
    },
    {
      "cell_type": "markdown",
      "metadata": {
        "id": "u1NwL3fQ_-PS"
      },
      "source": [
        "# Demo: Starting Python for Exploration and Production in 1 Hour\n",
        "\n",
        "**Created by:** *Yohanes Nuwara*\n",
        "\n",
        "This notebook is used for personal demonstration in my technical talk and knowledge sharing sessions. \n",
        "\n"
      ]
    },
    {
      "cell_type": "markdown",
      "metadata": {
        "id": "_2IZDnx5BVap"
      },
      "source": [
        "## Demo 0: Kickstarting\n",
        "\n",
        "This session demonstrate how to use Google Colab (switching from CPU to GPU vice versa, connecting to runtime, scripting, and running the cell)"
      ]
    },
    {
      "cell_type": "code",
      "metadata": {
        "id": "dmRoI54fbH12",
        "outputId": "a52c409f-cbcf-4fe6-d549-0d9d7679a169",
        "colab": {
          "base_uri": "https://localhost:8080/",
          "height": 34
        }
      },
      "source": [
        "print('hello world')"
      ],
      "execution_count": null,
      "outputs": [
        {
          "output_type": "stream",
          "text": [
            "hello world\n"
          ],
          "name": "stdout"
        }
      ]
    },
    {
      "cell_type": "code",
      "metadata": {
        "id": "EAlK4Y6CbPLh",
        "outputId": "26e1d4be-9e6f-44de-a568-1926815299d7",
        "colab": {
          "base_uri": "https://localhost:8080/",
          "height": 34
        }
      },
      "source": [
        "a = 10\n",
        "\n",
        "if a > 5:\n",
        "  b = a**2\n",
        "  print(b)\n",
        "if a <= 5:\n",
        "  b = 1 / a\n",
        "  print(b)"
      ],
      "execution_count": null,
      "outputs": [
        {
          "output_type": "stream",
          "text": [
            "100\n"
          ],
          "name": "stdout"
        }
      ]
    },
    {
      "cell_type": "markdown",
      "metadata": {
        "id": "1bzdzcjfAuEs"
      },
      "source": [
        "## Demo 1: Python and its Effectiveness\n",
        "\n",
        "This session demonstrate how to apply list comprehension to solve problems in engineering fast, easily, and effectively i.e. to reduce the lines of codes. \n",
        "\n",
        "In the example below, we want to compute the difference between two consecutive elements in an array"
      ]
    },
    {
      "cell_type": "code",
      "metadata": {
        "id": "FiQvGV7xX3Od"
      },
      "source": [
        "# create array\n",
        "array = [13, 56, 78, 23, 45, 67, 82, 34, 25, 66, 23, 12, 45, 56, 78, 89]"
      ],
      "execution_count": null,
      "outputs": []
    },
    {
      "cell_type": "code",
      "metadata": {
        "id": "GmNtQpP1X5pf",
        "outputId": "951cff86-08c4-4e3b-ecde-a06a1995c96c",
        "colab": {
          "base_uri": "https://localhost:8080/",
          "height": 34
        }
      },
      "source": [
        "# NOT using LIST COMPREHENSION\n",
        "difference = []\n",
        "\n",
        "for i, j in zip(range(0, len(array)-1), range(1, len(array))):\n",
        "  diff = array[j] - array[i]\n",
        "  # append result of each iter to the blank array\n",
        "  difference.append(diff)\n",
        "\n",
        "print(difference)"
      ],
      "execution_count": null,
      "outputs": [
        {
          "output_type": "stream",
          "text": [
            "[43, 22, -55, 22, 22, 15, -48, -9, 41, -43, -11, 33, 11, 22, 11]\n"
          ],
          "name": "stdout"
        }
      ]
    },
    {
      "cell_type": "code",
      "metadata": {
        "id": "VhAIIw5LYC9B",
        "outputId": "396bdeea-dc1a-4642-b4d1-4a47755f186d",
        "colab": {
          "base_uri": "https://localhost:8080/",
          "height": 34
        }
      },
      "source": [
        "# using LIST COMPREHENSION\n",
        "difference = [j-i for i, j in zip(array[:-1], array[1:])]\n",
        "print(difference)"
      ],
      "execution_count": null,
      "outputs": [
        {
          "output_type": "stream",
          "text": [
            "[43, 22, -55, 22, 22, 15, -48, -9, 41, -43, -11, 33, 11, 22, 11]\n"
          ],
          "name": "stdout"
        }
      ]
    },
    {
      "cell_type": "markdown",
      "metadata": {
        "id": "K-O7IZY1bQ1x"
      },
      "source": [
        "## Demo 2: Numpy, Matplotlib, and Pandas\n",
        "\n",
        "This session demonstrate how to use Numpy, Matplotlib, and Pandas libraries, and to guarantee that if you master these libraries, you will master how to solve engineering problems with Python. \n",
        "\n",
        "In the example below, we use Numpy to create array of x and y trigonometric function, Matplotlib to visualize the function, and Pandas to convert the data into a dataframe. "
      ]
    },
    {
      "cell_type": "code",
      "metadata": {
        "id": "NbWHHnNcb1GO"
      },
      "source": [
        "import numpy as np\n",
        "import matplotlib.pyplot as plt\n",
        "import pandas as pd"
      ],
      "execution_count": null,
      "outputs": []
    },
    {
      "cell_type": "code",
      "metadata": {
        "id": "fDsksszCcAvh"
      },
      "source": [
        "# Numpy\n",
        "\n",
        "## create x array\n",
        "x = np.arange(0, 370, 10)\n",
        "\n",
        "## compute sine and cosine from x array\n",
        "ysin = np.sin(np.deg2rad(x))\n",
        "ycos = np.cos(np.deg2rad(x))"
      ],
      "execution_count": null,
      "outputs": []
    },
    {
      "cell_type": "code",
      "metadata": {
        "id": "lo4H8l6jdimi",
        "outputId": "30841425-8d4a-4a6f-b461-90a1d4c526cc",
        "colab": {
          "base_uri": "https://localhost:8080/",
          "height": 364
        }
      },
      "source": [
        "# Matplotlib\n",
        "\n",
        "## resize the plot\n",
        "plt.figure(figsize=(10,5))\n",
        "\n",
        "## plot, specify color, linetype, linewidth, and give labels \n",
        "plt.plot(x, ysin, '.-', color='purple', label='y=sin(x)')\n",
        "plt.plot(x, ycos, '*-', color='green', linewidth=1, label='y=cos(x)')\n",
        "\n",
        "## give title, with size and pad\n",
        "plt.title('Sine and Cosine Function', size=20, pad=10)\n",
        "\n",
        "## give labels, with size\n",
        "plt.xlabel('x', size=15)\n",
        "plt.ylabel('y', size=15)\n",
        "\n",
        "## limit the axes\n",
        "plt.xlim(0, 360)\n",
        "\n",
        "## show the legends and specify its location in the plot\n",
        "plt.legend(loc='upper center')\n",
        "\n",
        "## show the grids\n",
        "plt.grid()\n",
        "\n",
        "plt.show()"
      ],
      "execution_count": null,
      "outputs": [
        {
          "output_type": "display_data",
          "data": {
            "image/png": "[encoded data removed]",
            "text/plain": [
              "<Figure size 720x360 with 1 Axes>"
            ]
          },
          "metadata": {
            "tags": [],
            "needs_background": "light"
          }
        }
      ]
    },
    {
      "cell_type": "code",
      "metadata": {
        "id": "7XSNKsTIeG6g",
        "outputId": "39e1fb75-c44f-4e5d-867b-80954d62f73e",
        "colab": {
          "base_uri": "https://localhost:8080/",
          "height": 349
        }
      },
      "source": [
        "# Pandas\n",
        "\n",
        "## create dataframe\n",
        "df = pd.DataFrame({'x': x, 'sin(x)': ysin, 'cos(x)': ycos})\n",
        "\n",
        "## display the first 10 rows\n",
        "df.head(10)"
      ],
      "execution_count": null,
      "outputs": [
        {
          "output_type": "execute_result",
          "data": {
            "text/html": [
              "<div>\n",
              "<style scoped>\n",
              "    .dataframe tbody tr th:only-of-type {\n",
              "        vertical-align: middle;\n",
              "    }\n",
              "\n",
              "    .dataframe tbody tr th {\n",
              "        vertical-align: top;\n",
              "    }\n",
              "\n",
              "    .dataframe thead th {\n",
              "        text-align: right;\n",
              "    }\n",
              "</style>\n",
              "<table border=\"1\" class=\"dataframe\">\n",
              "  <thead>\n",
              "    <tr style=\"text-align: right;\">\n",
              "      <th></th>\n",
              "      <th>x</th>\n",
              "      <th>sin(x)</th>\n",
              "      <th>cos(x)</th>\n",
              "    </tr>\n",
              "  </thead>\n",
              "  <tbody>\n",
              "    <tr>\n",
              "      <th>0</th>\n",
              "      <td>0</td>\n",
              "      <td>0.000000</td>\n",
              "      <td>1.000000e+00</td>\n",
              "    </tr>\n",
              "    <tr>\n",
              "      <th>1</th>\n",
              "      <td>10</td>\n",
              "      <td>0.173648</td>\n",
              "      <td>9.848078e-01</td>\n",
              "    </tr>\n",
              "    <tr>\n",
              "      <th>2</th>\n",
              "      <td>20</td>\n",
              "      <td>0.342020</td>\n",
              "      <td>9.396926e-01</td>\n",
              "    </tr>\n",
              "    <tr>\n",
              "      <th>3</th>\n",
              "      <td>30</td>\n",
              "      <td>0.500000</td>\n",
              "      <td>8.660254e-01</td>\n",
              "    </tr>\n",
              "    <tr>\n",
              "      <th>4</th>\n",
              "      <td>40</td>\n",
              "      <td>0.642788</td>\n",
              "      <td>7.660444e-01</td>\n",
              "    </tr>\n",
              "    <tr>\n",
              "      <th>5</th>\n",
              "      <td>50</td>\n",
              "      <td>0.766044</td>\n",
              "      <td>6.427876e-01</td>\n",
              "    </tr>\n",
              "    <tr>\n",
              "      <th>6</th>\n",
              "      <td>60</td>\n",
              "      <td>0.866025</td>\n",
              "      <td>5.000000e-01</td>\n",
              "    </tr>\n",
              "    <tr>\n",
              "      <th>7</th>\n",
              "      <td>70</td>\n",
              "      <td>0.939693</td>\n",
              "      <td>3.420201e-01</td>\n",
              "    </tr>\n",
              "    <tr>\n",
              "      <th>8</th>\n",
              "      <td>80</td>\n",
              "      <td>0.984808</td>\n",
              "      <td>1.736482e-01</td>\n",
              "    </tr>\n",
              "    <tr>\n",
              "      <th>9</th>\n",
              "      <td>90</td>\n",
              "      <td>1.000000</td>\n",
              "      <td>6.123234e-17</td>\n",
              "    </tr>\n",
              "  </tbody>\n",
              "</table>\n",
              "</div>"
            ],
            "text/plain": [
              "    x    sin(x)        cos(x)\n",
              "0   0  0.000000  1.000000e+00\n",
              "1  10  0.173648  9.848078e-01\n",
              "2  20  0.342020  9.396926e-01\n",
              "3  30  0.500000  8.660254e-01\n",
              "4  40  0.642788  7.660444e-01\n",
              "5  50  0.766044  6.427876e-01\n",
              "6  60  0.866025  5.000000e-01\n",
              "7  70  0.939693  3.420201e-01\n",
              "8  80  0.984808  1.736482e-01\n",
              "9  90  1.000000  6.123234e-17"
            ]
          },
          "metadata": {
            "tags": []
          },
          "execution_count": 8
        }
      ]
    },
    {
      "cell_type": "markdown",
      "metadata": {
        "id": "DqQJTV2QckCQ"
      },
      "source": [
        "## Demo 3: Access Exploration Open Dataset\n",
        "\n",
        "This session demonstrates how to stream EXPLORATION open dataset from a website directly to Google Colab (without downloading to our PC) and open the data quickly. \n",
        "\n",
        "In the example below, we access a well-log dataset from the KGS web data repository, use Lasio to read the data, and display it. "
      ]
    },
    {
      "cell_type": "code",
      "metadata": {
        "id": "U7w5lKDDhYQG",
        "outputId": "cf8d3bb4-0d2d-4d24-efdf-c5caf4fa2cec",
        "colab": {
          "base_uri": "https://localhost:8080/",
          "height": 207
        }
      },
      "source": [
        "# get dataset from the open repo website (e.g. KGS)\n",
        "!wget 'http://www.kgs.ku.edu/PRS/Scans/Log_Summary/2020.zip'"
      ],
      "execution_count": null,
      "outputs": [
        {
          "output_type": "stream",
          "text": [
            "--2020-10-15 10:03:39--  http://www.kgs.ku.edu/PRS/Scans/Log_Summary/2020.zip\n",
            "Resolving www.kgs.ku.edu (www.kgs.ku.edu)... 129.237.140.42\n",
            "Connecting to www.kgs.ku.edu (www.kgs.ku.edu)|129.237.140.42|:80... connected.\n",
            "HTTP request sent, awaiting response... 200 OK\n",
            "Length: 107287088 (102M) [application/zip]\n",
            "Saving to: ‘2020.zip’\n",
            "\n",
            "2020.zip            100%[===================>] 102.32M  11.0MB/s    in 11s     \n",
            "\n",
            "2020-10-15 10:03:50 (9.37 MB/s) - ‘2020.zip’ saved [107287088/107287088]\n",
            "\n"
          ],
          "name": "stdout"
        }
      ]
    },
    {
      "cell_type": "code",
      "metadata": {
        "id": "BQNv3d61h5UM"
      },
      "source": [
        "# unzip file and store to directory \"KGS\"\n",
        "!unzip '/content/2020.zip' -d '/content/KGS'\n",
        "!unzip '/content/KGS/1051325649.zip' -d '/content/KGS/logs'"
      ],
      "execution_count": null,
      "outputs": []
    },
    {
      "cell_type": "code",
      "metadata": {
        "id": "YvOaiMu7jg8O",
        "outputId": "a7a95ac0-4cda-485c-c08c-9b6a9b37614a",
        "colab": {
          "base_uri": "https://localhost:8080/",
          "height": 124
        }
      },
      "source": [
        "# install Lasio library to read well log data\n",
        "!pip install lasio"
      ],
      "execution_count": null,
      "outputs": [
        {
          "output_type": "stream",
          "text": [
            "Collecting lasio\n",
            "  Downloading https://files.pythonhosted.org/packages/5e/8e/ce58a22ec8454a12f92333a50f2add5f6131218c4815952d6ca7cbd578f0/lasio-0.28-py3-none-any.whl\n",
            "Requirement already satisfied: numpy in /usr/local/lib/python3.6/dist-packages (from lasio) (1.18.5)\n",
            "Installing collected packages: lasio\n",
            "Successfully installed lasio-0.28\n"
          ],
          "name": "stdout"
        }
      ]
    },
    {
      "cell_type": "code",
      "metadata": {
        "id": "R6N5pD09jri8"
      },
      "source": [
        "# use Lasio\n",
        "import lasio\n",
        "\n",
        "# read well log data\n",
        "well = lasio.read('/content/KGS/logs/1051325649.las')"
      ],
      "execution_count": null,
      "outputs": []
    },
    {
      "cell_type": "code",
      "metadata": {
        "id": "Pt5QWniglBuz",
        "outputId": "da077424-10dc-41bd-d6c8-5f208a5e6207",
        "colab": {
          "base_uri": "https://localhost:8080/",
          "height": 519
        }
      },
      "source": [
        "plt.figure(figsize=(3,8)) # chart size\n",
        "\n",
        "plt.plot(well['NPHI'], well['DEPT'], color='blue') # plot the data\n",
        "plt.title('Neutron Porosity Log', size=15, pad=10)\n",
        "plt.xlabel(\"NPHI (v/v)\"); plt.ylabel(\"Depth (m)\") # labels\n",
        "plt.xlim(0, 0.45)\n",
        "plt.grid(True) # give chart grids\n",
        "plt.gca().invert_yaxis() # invert y-axis\n",
        "plt.show()"
      ],
      "execution_count": null,
      "outputs": [
        {
          "output_type": "display_data",
          "data": {
            "image/png": "[encoded data removed]",
            "text/plain": [
              "<Figure size 216x576 with 1 Axes>"
            ]
          },
          "metadata": {
            "tags": [],
            "needs_background": "light"
          }
        }
      ]
    },
    {
      "cell_type": "markdown",
      "metadata": {
        "id": "z9K98xR1nWd1"
      },
      "source": [
        "## Demo 4: Access Production Open Dataset\n",
        "\n",
        "This session demonstrates how to stream PRODUCTION open dataset from a website directly to Google Colab (without downloading to our PC) and open the data quickly.\n",
        "\n",
        "In the example below, we access a production history data of the Volve field in North Sea from an available database in Zenodo (Alfonso Reyes), and display the production plot. "
      ]
    },
    {
      "cell_type": "code",
      "metadata": {
        "id": "_3e_26m9na8T",
        "outputId": "3e010ffa-59c0-4981-b018-01f88472c6fc",
        "colab": {
          "base_uri": "https://localhost:8080/",
          "height": 207
        }
      },
      "source": [
        "# get the dataset from the open repo website (e.g. Volve Zenodo repo)\n",
        "!wget 'https://zenodo.org/record/2596620/files/f0nzie/volve_eclipse_reservoir-v0.1.zip'"
      ],
      "execution_count": null,
      "outputs": [
        {
          "output_type": "stream",
          "text": [
            "--2020-10-05 05:54:16--  https://zenodo.org/record/2596620/files/f0nzie/volve_eclipse_reservoir-v0.1.zip\n",
            "Resolving zenodo.org (zenodo.org)... 137.138.76.77\n",
            "Connecting to zenodo.org (zenodo.org)|137.138.76.77|:443... connected.\n",
            "HTTP request sent, awaiting response... 200 OK\n",
            "Length: 29500106 (28M) [application/octet-stream]\n",
            "Saving to: ‘volve_eclipse_reservoir-v0.1.zip’\n",
            "\n",
            "volve_eclipse_reser 100%[===================>]  28.13M  79.4MB/s    in 0.4s    \n",
            "\n",
            "2020-10-05 05:54:17 (79.4 MB/s) - ‘volve_eclipse_reservoir-v0.1.zip’ saved [29500106/29500106]\n",
            "\n"
          ],
          "name": "stdout"
        }
      ]
    },
    {
      "cell_type": "code",
      "metadata": {
        "id": "Km9QZaFGn8QF"
      },
      "source": [
        "# unzip the zip file\n",
        "!unzip '/content/volve_eclipse_reservoir-v0.1.zip' -d '/content/Volve'"
      ],
      "execution_count": null,
      "outputs": []
    },
    {
      "cell_type": "code",
      "metadata": {
        "id": "UHecglrgoRLl",
        "outputId": "1bd5fd50-bf7d-413d-f3f4-8ca9fdfcfe02",
        "colab": {
          "base_uri": "https://localhost:8080/",
          "height": 349
        }
      },
      "source": [
        "# define the filepath of production data in Excel file\n",
        "filepath = '/content/Volve/f0nzie-volve_eclipse_reservoir-413a669/inst/rawdata/Volve production data.xlsx'\n",
        "\n",
        "# read excel from the above filepath\n",
        "df = pd.read_excel(filepath, sheet_name='Monthly Production Data')\n",
        "\n",
        "# output the last 10 rows of the dataframe\n",
        "df.head(10)"
      ],
      "execution_count": null,
      "outputs": [
        {
          "output_type": "execute_result",
          "data": {
            "text/html": [
              "<div>\n",
              "<style scoped>\n",
              "    .dataframe tbody tr th:only-of-type {\n",
              "        vertical-align: middle;\n",
              "    }\n",
              "\n",
              "    .dataframe tbody tr th {\n",
              "        vertical-align: top;\n",
              "    }\n",
              "\n",
              "    .dataframe thead th {\n",
              "        text-align: right;\n",
              "    }\n",
              "</style>\n",
              "<table border=\"1\" class=\"dataframe\">\n",
              "  <thead>\n",
              "    <tr style=\"text-align: right;\">\n",
              "      <th></th>\n",
              "      <th>Wellbore name</th>\n",
              "      <th>NPDCode</th>\n",
              "      <th>Year</th>\n",
              "      <th>Month</th>\n",
              "      <th>On Stream</th>\n",
              "      <th>Oil</th>\n",
              "      <th>Gas</th>\n",
              "      <th>Water</th>\n",
              "      <th>GI</th>\n",
              "      <th>WI</th>\n",
              "    </tr>\n",
              "  </thead>\n",
              "  <tbody>\n",
              "    <tr>\n",
              "      <th>0</th>\n",
              "      <td>15/9-F-4</td>\n",
              "      <td>5693.0</td>\n",
              "      <td>2007.0</td>\n",
              "      <td>9.0</td>\n",
              "      <td>NaN</td>\n",
              "      <td>NaN</td>\n",
              "      <td>NaN</td>\n",
              "      <td>NaN</td>\n",
              "      <td>NaN</td>\n",
              "      <td>NaN</td>\n",
              "    </tr>\n",
              "    <tr>\n",
              "      <th>1</th>\n",
              "      <td>15/9-F-5</td>\n",
              "      <td>5769.0</td>\n",
              "      <td>2007.0</td>\n",
              "      <td>9.0</td>\n",
              "      <td>NaN</td>\n",
              "      <td>NaN</td>\n",
              "      <td>NaN</td>\n",
              "      <td>NaN</td>\n",
              "      <td>NaN</td>\n",
              "      <td>NaN</td>\n",
              "    </tr>\n",
              "    <tr>\n",
              "      <th>2</th>\n",
              "      <td>15/9-F-4</td>\n",
              "      <td>5693.0</td>\n",
              "      <td>2007.0</td>\n",
              "      <td>10.0</td>\n",
              "      <td>NaN</td>\n",
              "      <td>NaN</td>\n",
              "      <td>NaN</td>\n",
              "      <td>NaN</td>\n",
              "      <td>NaN</td>\n",
              "      <td>NaN</td>\n",
              "    </tr>\n",
              "    <tr>\n",
              "      <th>3</th>\n",
              "      <td>15/9-F-5</td>\n",
              "      <td>5769.0</td>\n",
              "      <td>2007.0</td>\n",
              "      <td>10.0</td>\n",
              "      <td>NaN</td>\n",
              "      <td>NaN</td>\n",
              "      <td>NaN</td>\n",
              "      <td>NaN</td>\n",
              "      <td>NaN</td>\n",
              "      <td>NaN</td>\n",
              "    </tr>\n",
              "    <tr>\n",
              "      <th>4</th>\n",
              "      <td>15/9-F-4</td>\n",
              "      <td>5693.0</td>\n",
              "      <td>2007.0</td>\n",
              "      <td>11.0</td>\n",
              "      <td>NaN</td>\n",
              "      <td>NaN</td>\n",
              "      <td>NaN</td>\n",
              "      <td>NaN</td>\n",
              "      <td>NaN</td>\n",
              "      <td>NaN</td>\n",
              "    </tr>\n",
              "    <tr>\n",
              "      <th>5</th>\n",
              "      <td>15/9-F-5</td>\n",
              "      <td>5769.0</td>\n",
              "      <td>2007.0</td>\n",
              "      <td>11.0</td>\n",
              "      <td>NaN</td>\n",
              "      <td>NaN</td>\n",
              "      <td>NaN</td>\n",
              "      <td>NaN</td>\n",
              "      <td>NaN</td>\n",
              "      <td>NaN</td>\n",
              "    </tr>\n",
              "    <tr>\n",
              "      <th>6</th>\n",
              "      <td>15/9-F-4</td>\n",
              "      <td>5693.0</td>\n",
              "      <td>2007.0</td>\n",
              "      <td>12.0</td>\n",
              "      <td>NaN</td>\n",
              "      <td>NaN</td>\n",
              "      <td>NaN</td>\n",
              "      <td>NaN</td>\n",
              "      <td>NaN</td>\n",
              "      <td>NaN</td>\n",
              "    </tr>\n",
              "    <tr>\n",
              "      <th>7</th>\n",
              "      <td>15/9-F-5</td>\n",
              "      <td>5769.0</td>\n",
              "      <td>2007.0</td>\n",
              "      <td>12.0</td>\n",
              "      <td>NaN</td>\n",
              "      <td>NaN</td>\n",
              "      <td>NaN</td>\n",
              "      <td>NaN</td>\n",
              "      <td>NaN</td>\n",
              "      <td>NaN</td>\n",
              "    </tr>\n",
              "    <tr>\n",
              "      <th>8</th>\n",
              "      <td>15/9-F-4</td>\n",
              "      <td>5693.0</td>\n",
              "      <td>2008.0</td>\n",
              "      <td>1.0</td>\n",
              "      <td>0</td>\n",
              "      <td>NaN</td>\n",
              "      <td>NaN</td>\n",
              "      <td>NaN</td>\n",
              "      <td>NaN</td>\n",
              "      <td>NaN</td>\n",
              "    </tr>\n",
              "    <tr>\n",
              "      <th>9</th>\n",
              "      <td>15/9-F-5</td>\n",
              "      <td>5769.0</td>\n",
              "      <td>2008.0</td>\n",
              "      <td>1.0</td>\n",
              "      <td>0</td>\n",
              "      <td>NaN</td>\n",
              "      <td>NaN</td>\n",
              "      <td>NaN</td>\n",
              "      <td>NaN</td>\n",
              "      <td>NaN</td>\n",
              "    </tr>\n",
              "  </tbody>\n",
              "</table>\n",
              "</div>"
            ],
            "text/plain": [
              "  Wellbore name  NPDCode    Year  Month On Stream  Oil  Gas Water   GI   WI\n",
              "0      15/9-F-4   5693.0  2007.0    9.0       NaN  NaN  NaN   NaN  NaN  NaN\n",
              "1      15/9-F-5   5769.0  2007.0    9.0       NaN  NaN  NaN   NaN  NaN  NaN\n",
              "2      15/9-F-4   5693.0  2007.0   10.0       NaN  NaN  NaN   NaN  NaN  NaN\n",
              "3      15/9-F-5   5769.0  2007.0   10.0       NaN  NaN  NaN   NaN  NaN  NaN\n",
              "4      15/9-F-4   5693.0  2007.0   11.0       NaN  NaN  NaN   NaN  NaN  NaN\n",
              "5      15/9-F-5   5769.0  2007.0   11.0       NaN  NaN  NaN   NaN  NaN  NaN\n",
              "6      15/9-F-4   5693.0  2007.0   12.0       NaN  NaN  NaN   NaN  NaN  NaN\n",
              "7      15/9-F-5   5769.0  2007.0   12.0       NaN  NaN  NaN   NaN  NaN  NaN\n",
              "8      15/9-F-4   5693.0  2008.0    1.0         0  NaN  NaN   NaN  NaN  NaN\n",
              "9      15/9-F-5   5769.0  2008.0    1.0         0  NaN  NaN   NaN  NaN  NaN"
            ]
          },
          "metadata": {
            "tags": []
          },
          "execution_count": 5
        }
      ]
    },
    {
      "cell_type": "code",
      "metadata": {
        "id": "QYl4zWcYp7XX",
        "outputId": "d520076c-cc26-45f4-abd8-8d040865ef9e",
        "colab": {
          "base_uri": "https://localhost:8080/",
          "height": 416
        }
      },
      "source": [
        "# select only data of well 15/9-F-12\n",
        "well_prod = df[df['Wellbore name']=='15/9-F-12']\n",
        "\n",
        "# make array of months\n",
        "t = np.arange(len(well_prod))\n",
        "\n",
        "# specify row contains oil cum. prod.\n",
        "Np = well_prod['Oil']\n",
        "\n",
        "# plot oil cum. prod vs month\n",
        "plt.figure(figsize=(12,6))\n",
        "\n",
        "plt.step(t, Np, label='Well 15/9-F-12 (Volve Field)')\n",
        "plt.title('Oil Cumulative Production over Months Since February 2008', size=20, pad=10)\n",
        "plt.xlim(min(t), max(t)); plt.ylim(ymin=0)\n",
        "plt.xlabel('Months Since February 2008', size=12)\n",
        "plt.ylabel('Cumulative Oil Production (Sm3)', size=12)\n",
        "\n",
        "plt.legend()\n",
        "plt.show()"
      ],
      "execution_count": null,
      "outputs": [
        {
          "output_type": "display_data",
          "data": {
            "image/png": "[encoded data removed]",
            "text/plain": [
              "<Figure size 864x432 with 1 Axes>"
            ]
          },
          "metadata": {
            "tags": [],
            "needs_background": "light"
          }
        }
      ]
    }
  ]
}